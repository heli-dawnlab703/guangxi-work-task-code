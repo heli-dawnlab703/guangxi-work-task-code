{
 "cells": [
  {
   "cell_type": "code",
   "execution_count": null,
   "outputs": [],
   "source": [
    "import tensorflow as tf"
   ],
   "metadata": {
    "collapsed": false
   },
   "id": "9053eea62a84ce44"
  },
  {
   "cell_type": "code",
   "execution_count": null,
   "outputs": [],
   "source": [
    "x = tf.random.normal([2,80,100])"
   ],
   "metadata": {
    "collapsed": false
   },
   "id": "851be197867599d5"
  },
  {
   "cell_type": "code",
   "execution_count": null,
   "id": "initial_id",
   "metadata": {
    "collapsed": true
   },
   "outputs": [],
   "source": [
    "# 创建一层 LSTM 层，内存向量长度为 64\n",
    "layer = layers.LSTM(64)\n",
    "# 序列通过 LSTM 层，默认返回最后一个时间戳的输出 h\n",
    "out = layer(x)"
   ]
  },
  {
   "cell_type": "markdown",
   "source": [
    "经过 LSTM 层前向传播后，默认只会返回最后一个时间戳的输出，如果需要返回每个时间\n",
    "戳上面的输出，需要设置 return_sequences=True 标志。例如："
   ],
   "metadata": {
    "collapsed": false
   },
   "id": "bd19072dae8c11f2"
  },
  {
   "cell_type": "code",
   "execution_count": null,
   "outputs": [],
   "source": [
    "# 创建 LSTM 层时，设置返回每个时间戳上的输出\n",
    "layer = layers.LSTM(64, return_sequences=True)\n",
    "# 前向计算，每个时间戳上的输出自动进行了 concat，拼成一个张量\n",
    "out = layer(x)"
   ],
   "metadata": {
    "collapsed": false
   },
   "id": "7601d201a7cdadce"
  },
  {
   "cell_type": "markdown",
   "source": [
    "此时返回的 out 包含了所有时间戳上面的状态输出，它的 shape 是[2,80,64]，其中的 80 代\n",
    "表了 80 个时间戳。\n",
    "对于多层神经网络，可以通过 Sequential 容器包裹多层 LSTM 层，并设置所有非末层\n",
    "网络 return_sequences=True，这是因为非末层的 LSTM 层需要上一层在所有时间戳的输出\n",
    "作为输入。例如："
   ],
   "metadata": {
    "collapsed": false
   },
   "id": "d9f7d7da5f85a0d3"
  },
  {
   "cell_type": "code",
   "execution_count": null,
   "outputs": [],
   "source": [
    "# 和 CNN 网络一样，LSTM 也可以简单地层层堆叠\n",
    "net = keras.Sequential([\n",
    " layers.LSTM(64, return_sequences=True), # 非末层需要返回所有时间戳输出\n",
    " layers.LSTM(64)\n",
    "])\n",
    "# 一次通过网络模型，即可得到最末层、最后一个时间戳的输出\n",
    "out = net(x)"
   ],
   "metadata": {
    "collapsed": false
   },
   "id": "45de4c45cb641a77"
  }
 ],
 "metadata": {
  "kernelspec": {
   "display_name": "Python 3",
   "language": "python",
   "name": "python3"
  },
  "language_info": {
   "codemirror_mode": {
    "name": "ipython",
    "version": 2
   },
   "file_extension": ".py",
   "mimetype": "text/x-python",
   "name": "python",
   "nbconvert_exporter": "python",
   "pygments_lexer": "ipython2",
   "version": "2.7.6"
  }
 },
 "nbformat": 4,
 "nbformat_minor": 5
}
