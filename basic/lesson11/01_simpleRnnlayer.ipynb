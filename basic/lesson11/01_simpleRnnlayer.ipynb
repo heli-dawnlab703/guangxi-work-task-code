{
 "cells": [
  {
   "cell_type": "code",
   "execution_count": null,
   "outputs": [],
   "source": [
    "import tensorflow.keras.layers\n",
    "import tensorflow as tf "
   ],
   "metadata": {
    "collapsed": false
   },
   "id": "225547e871ef5298"
  },
  {
   "cell_type": "code",
   "execution_count": null,
   "id": "initial_id",
   "metadata": {
    "collapsed": true
   },
   "outputs": [],
   "source": [
    "cell = layers.SimpleRNNCell(3) # 创建 RNN Cell，内存向量长度为 3\n",
    "cell.build(input_shape=(None,4)) # 输出特征长度 n=4\n",
    "cell.trainable_variables # 打印 wxh, whh, b 张量"
   ]
  },
  {
   "cell_type": "markdown",
   "source": [
    "可以看到，SimpleRNNCell 内部维护了 3 个张量，kernel 变量即𝑾 张量，recurrent_kernel\n",
    "变量即𝑾 张量，bias 变量即偏置𝒃向量。但是 RNN 的 Memory 向量 并不由SimpleRNNCell 维护，\n",
    "需要用户自行初始化向量 𝟎并记录每个时间戳上的 𝒕。"
   ],
   "metadata": {
    "collapsed": false
   },
   "id": "5cf0660e2b5708b9"
  },
  {
   "cell_type": "code",
   "execution_count": null,
   "outputs": [],
   "source": [
    "# 初始化状态向量，用列表包裹，统一格式\n",
    "h0 = [tf.zeros([4, 64])]\n",
    "x = tf.random.normal([4, 80, 100]) # 生成输入张量，4 个 80 单词的句子\n",
    "xt = x[:,0,:] # 所有句子的第 1 个单词\n",
    "# 构建输入特征 n=100,序列长度 s=80,状态长度=64 的 Cell\n",
    "cell = layers.SimpleRNNCell(64)\n",
    "out, h1 = cell(xt, h0) # 前向计算\n",
    "print(out.shape, h1[0].shape)"
   ],
   "metadata": {
    "collapsed": false
   },
   "id": "7199d24fae9eb1cd"
  },
  {
   "cell_type": "markdown",
   "source": [
    "可以看到经过一个时间戳的计算后，输出和状态张量的 shape 都为[𝑏, ℎ]，\n",
    "\n",
    "对于长度为𝑠的训练来说，需要循环通过Cell 类𝑠次才算完成一次网络层的前向运算"
   ],
   "metadata": {
    "collapsed": false
   },
   "id": "8b925cd5b4848efc"
  },
  {
   "cell_type": "code",
   "execution_count": null,
   "outputs": [],
   "source": [
    "h = h0 # h 保存每个时间戳上的状态向量列表\n",
    "# 在序列长度的维度解开输入，得到 xt:[b,n]\n",
    "for xt in tf.unstack(x, axis=1):\n",
    "     out, h = cell(xt, h) # 前向计算,out 和 h 均被覆盖\n",
    "# 最终输出可以聚合每个时间戳上的输出，也可以只取最后时间戳的输出\n",
    "out = out"
   ],
   "metadata": {
    "collapsed": false
   },
   "id": "5ed79bf68f0e2164"
  },
  {
   "cell_type": "markdown",
   "source": [
    "最后一个时间戳的输出变量 out 将作为网络的最终输出。实际上，也可以将每个时间戳上\n",
    "的输出保存，然后求和或者均值，将其作为网络的最终输出。\n",
    "\n",
    "# 多层 SimpleRNNCell 网络"
   ],
   "metadata": {
    "collapsed": false
   },
   "id": "b52e0a506bfdb30e"
  },
  {
   "cell_type": "code",
   "execution_count": null,
   "outputs": [],
   "source": [
    "x = tf.random.normal([4,80,100])\n",
    "xt = x[:,0,:] # 取第一个时间戳的输入 x0\n",
    "# 构建 2 个 Cell,先 cell0,后 cell1，内存状态向量长度都为 64\n",
    "cell0 = layers.SimpleRNNCell(64)\n",
    "cell1 = layers.SimpleRNNCell(64)\n",
    "h0 = [tf.zeros([4,64])] # cell0 的初始状态向量\n",
    "h1 = [tf.zeros([4,64])] # cell1 的初始状态向量"
   ],
   "metadata": {
    "collapsed": false
   },
   "id": "dc3a29cf5b46e939"
  },
  {
   "cell_type": "markdown",
   "source": [
    "在时间轴上面循环计算多次来实现整个网络的前向运算，每个时间戳上的输入 xt 首先通过\n",
    "第一层，得到输出 out0，再通过第二层，得到输出 out1，代码如下："
   ],
   "metadata": {
    "collapsed": false
   },
   "id": "82f44e32880e3bf9"
  },
  {
   "cell_type": "code",
   "execution_count": null,
   "outputs": [],
   "source": [
    "for xt in tf.unstack(x, axis=1):\n",
    "     # xt 作为输入，输出为 out0\n",
    "     out0, h0 = cell0(xt, h0)\n",
    "     # 上一个 cell 的输出 out0 作为本 cell 的输入\n",
    "     out1, h1 = cell1(out0, h1)"
   ],
   "metadata": {
    "collapsed": false
   },
   "id": "8f9022063f8a163c"
  },
  {
   "cell_type": "markdown",
   "source": [
    "上述方式先完成一个时间戳上的输入在所有层上的传播，再循环计算完所有时间戳上的输入。\n",
    "实际上，也可以先完成输入在第一层上所有时间戳的计算，并保存第一层在所有时间\n",
    "戳上的输出列表，再计算第二层、第三层等的传播。代码如下"
   ],
   "metadata": {
    "collapsed": false
   },
   "id": "fc7891db062ce07d"
  },
  {
   "cell_type": "code",
   "execution_count": null,
   "outputs": [],
   "source": [
    "# 保存上一层的所有时间戳上面的输出\n",
    "middle_sequences = []\n",
    "# 计算第一层的所有时间戳上的输出，并保存\n",
    "for xt in tf.unstack(x, axis=1):\n",
    "     out0, h0 = cell0(xt, h0)\n",
    "     middle_sequences.append(out0)\n",
    "# 计算第二层的所有时间戳上的输出\n",
    "# 如果不是末层，需要保存所有时间戳上面的输出\n",
    "for xt in middle_sequences:\n",
    "    out1, h1 = cell1(xt, h1)"
   ],
   "metadata": {
    "collapsed": false
   },
   "id": "449d66efa75c6bea"
  },
  {
   "cell_type": "markdown",
   "source": [
    "使用这种方式的话，我们需要一个额外的 List 来保存上一层所有时间戳上面的状态信息：\n",
    "middle_sequences.append(out0)。这两种方式效果相同，可以根据个人喜好选择编程风格。"
   ],
   "metadata": {
    "collapsed": false
   },
   "id": "99d3cf1823c4b0b4"
  }
 ],
 "metadata": {
  "kernelspec": {
   "display_name": "Python 3",
   "language": "python",
   "name": "python3"
  },
  "language_info": {
   "codemirror_mode": {
    "name": "ipython",
    "version": 2
   },
   "file_extension": ".py",
   "mimetype": "text/x-python",
   "name": "python",
   "nbconvert_exporter": "python",
   "pygments_lexer": "ipython2",
   "version": "2.7.6"
  }
 },
 "nbformat": 4,
 "nbformat_minor": 5
}
