{
 "cells": [
  {
   "cell_type": "code",
   "execution_count": null,
   "id": "initial_id",
   "metadata": {
    "collapsed": true
   },
   "outputs": [],
   "source": [
    "import tensorflow as tf"
   ]
  },
  {
   "cell_type": "markdown",
   "source": [
    "LSTMCell 的用法和 SimpleRNNCell 基本一致，区别在于 LSTM 的状态变量 List 有两\n",
    "个，即[h𝑡, 𝒄𝑡]，需要分别初始化，其中 List 第一个元素为 𝑡，第二个元素为𝒄𝑡。调用 cell\n",
    "完成前向运算时，返回两个元素，第一个元素为 cell 的输出，也就是 𝑡，第二个元素为\n",
    "cell 的更新后的状态 List：[ht, 𝒄𝑡]。首先新建一个状态向量长度ℎ = 64的 LSTM Cell，其中\n",
    "状态向量𝒄𝑡和输出向量 h𝑡的长度都为ℎ"
   ],
   "metadata": {
    "collapsed": false
   },
   "id": "90ae2dbb8df71560"
  },
  {
   "cell_type": "code",
   "execution_count": null,
   "outputs": [],
   "source": [
    "x = tf.random.normal([2,80,100])\n",
    "xt = x[:,0,:] # 得到一个时间戳的输入"
   ],
   "metadata": {
    "collapsed": false
   },
   "id": "40f779f13b0b0ea6"
  },
  {
   "cell_type": "code",
   "execution_count": null,
   "outputs": [],
   "source": [
    "cell = layers.LSTMCell(64) # 创建 LSTM Cell\n",
    "# 初始化状态和输出 List,[h,c]\n",
    "state = [tf.zeros([2,64]),tf.zeros([2,64])]\n",
    "out, state = cell(xt, state) # 前向计算\n",
    "# 查看返回元素的 id\n",
    "id(out),id(state[0]),id(state[1])"
   ],
   "metadata": {
    "collapsed": false
   },
   "id": "39d96a64106930b1"
  },
  {
   "cell_type": "markdown",
   "source": [
    "可以看到，返回的输出 out 和 List 的第一个元素 𝑡的 id 是相同的，这与基础的 RNN 初衷\n",
    "一致，都是为了格式的统一。\n",
    "通过在时间戳上展开循环运算，即可完成一次层的前向传播，写法与基础的 RNN 一\n",
    "样。例如："
   ],
   "metadata": {
    "collapsed": false
   },
   "id": "4701b8d2b0f4a94b"
  },
  {
   "cell_type": "code",
   "execution_count": null,
   "outputs": [],
   "source": [
    "# 在序列长度维度上解开，循环送入 LSTM Cell 单元\n",
    "for xt in tf.unstack(x, axis=1): \n",
    "  # 前向计算\n",
    "    out, state = cell(xt, state)"
   ],
   "metadata": {
    "collapsed": false
   },
   "id": "a9181d781984324f"
  },
  {
   "cell_type": "markdown",
   "source": [
    "输出可以仅使用最后一个时间戳上的输出，也可以聚合所有时间戳上的输出向量。"
   ],
   "metadata": {
    "collapsed": false
   },
   "id": "6e71c3a929edbe5c"
  },
  {
   "cell_type": "code",
   "execution_count": null,
   "outputs": [],
   "source": [],
   "metadata": {
    "collapsed": false
   },
   "id": "539ab87eb1b136e1"
  }
 ],
 "metadata": {
  "kernelspec": {
   "display_name": "Python 3",
   "language": "python",
   "name": "python3"
  },
  "language_info": {
   "codemirror_mode": {
    "name": "ipython",
    "version": 2
   },
   "file_extension": ".py",
   "mimetype": "text/x-python",
   "name": "python",
   "nbconvert_exporter": "python",
   "pygments_lexer": "ipython2",
   "version": "2.7.6"
  }
 },
 "nbformat": 4,
 "nbformat_minor": 5
}
