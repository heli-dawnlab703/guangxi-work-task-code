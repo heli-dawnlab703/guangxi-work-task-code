{
 "cells": [
  {
   "cell_type": "markdown",
   "source": [
    "# 索引\n",
    "在 TensorFlow 中，支持基本的[𝑖][𝑗]⋯标准索引方式，也支持通过逗号分隔索引号的索\n",
    "引方式。考虑输入𝑿为 4 张32 × 32大小的彩色图片(为了方便演示，大部分张量都使用随机\n",
    "分布模拟产生，后文同)，shape 为[4,32,32,3]，首先创建张量："
   ],
   "metadata": {
    "collapsed": false
   },
   "id": "462c9da8e9eb0902"
  },
  {
   "cell_type": "code",
   "execution_count": 1,
   "outputs": [],
   "source": [
    "import tensorflow as tf\n",
    "x = tf.random.normal([4,32,32,3]) # 创建 4D 张量"
   ],
   "metadata": {
    "collapsed": false
   },
   "id": "1d04d0c7e5cbd9a0"
  },
  {
   "cell_type": "code",
   "execution_count": 2,
   "id": "initial_id",
   "metadata": {
    "collapsed": true
   },
   "outputs": [
    {
     "data": {
      "text/plain": "<tf.Tensor: shape=(32, 32, 3), dtype=float32, numpy=\narray([[[ 0.84162956,  0.0148088 ,  1.0840763 ],\n        [ 0.01784592,  1.0473249 ,  1.3924198 ],\n        [ 1.123056  , -0.39011037,  1.4333911 ],\n        ...,\n        [-1.2661737 ,  0.48103714,  2.369937  ],\n        [ 0.04557693,  1.9471939 , -0.2586977 ],\n        [-0.24961661,  0.9633008 ,  0.0245386 ]],\n\n       [[ 2.0984838 , -2.6831036 ,  1.5367452 ],\n        [ 0.47324482, -0.03413346,  2.122392  ],\n        [-0.32457858,  0.520204  , -1.117629  ],\n        ...,\n        [ 1.0298573 ,  1.2030051 ,  0.9928199 ],\n        [ 1.4497169 ,  0.37771857, -1.6294096 ],\n        [-0.08338329, -0.295604  ,  0.80249864]],\n\n       [[-0.03257491, -0.4274184 ,  1.2387061 ],\n        [-0.07414224,  0.8592951 , -1.0625086 ],\n        [-0.9414735 , -0.7166805 , -0.77131844],\n        ...,\n        [ 0.44532067, -0.11331958,  1.757239  ],\n        [-2.57055   ,  2.0396614 , -0.9832191 ],\n        [-1.7033589 ,  1.2662476 , -0.20590167]],\n\n       ...,\n\n       [[-1.3584914 ,  0.9786596 ,  1.9735249 ],\n        [-0.36278492,  0.10698725,  0.4829583 ],\n        [-0.82438   , -1.1954156 , -0.615977  ],\n        ...,\n        [-0.9294602 , -0.88301283,  0.10349508],\n        [-0.06761006, -1.563008  , -0.24098329],\n        [-0.76550776,  0.19095603, -0.20416291]],\n\n       [[ 0.06466442, -1.087626  ,  0.8995578 ],\n        [-0.15634277, -0.64310664, -1.8722267 ],\n        [-0.04497906, -0.02338331, -0.08677505],\n        ...,\n        [ 1.1063488 , -1.2794563 , -0.40725395],\n        [-1.6499789 ,  1.5229526 ,  0.48794907],\n        [-0.5925086 , -0.7357857 , -0.24822597]],\n\n       [[-0.728732  , -0.16910954,  1.061225  ],\n        [ 0.37534702,  1.8854047 , -1.437088  ],\n        [ 0.71443945, -1.5674156 ,  1.9750377 ],\n        ...,\n        [ 0.10123806, -1.0661427 ,  0.67764527],\n        [-1.5579567 , -0.24834192,  0.1814371 ],\n        [-1.2037365 ,  0.40194964,  0.9347373 ]]], dtype=float32)>"
     },
     "execution_count": 2,
     "metadata": {},
     "output_type": "execute_result"
    }
   ],
   "source": [
    "x[0] # 程序中的第一的索引号应为 0，容易混淆，不过不影响理解"
   ]
  },
  {
   "cell_type": "code",
   "execution_count": null,
   "outputs": [],
   "source": [
    "# 取第 1 张图片的第 2 行，\n",
    "x[0][1]"
   ],
   "metadata": {
    "collapsed": false
   },
   "id": "1d170287f6cf6a6b"
  },
  {
   "cell_type": "code",
   "execution_count": null,
   "outputs": [],
   "source": [
    "# 取第 1 张图片，第 2 行，第 3 列的数据\n",
    "x[0][1][2]"
   ],
   "metadata": {
    "collapsed": false
   },
   "id": "ddb58df5becf288f"
  },
  {
   "cell_type": "markdown",
   "source": [
    "取第 3 张图片，第 2 行，第 1 列的像素，B 通道(第 2 个通道)颜色强度值，实现如\n",
    "下："
   ],
   "metadata": {
    "collapsed": false
   },
   "id": "6dfa1f9b5006635f"
  },
  {
   "cell_type": "code",
   "execution_count": null,
   "outputs": [],
   "source": [
    "x[2][1][0][1]"
   ],
   "metadata": {
    "collapsed": false
   },
   "id": "a2a2c5cfe4d2a77f"
  },
  {
   "cell_type": "markdown",
   "source": [
    "当张量的维度数较高时，使用[𝑖][𝑗]. . .[𝑘]的方式书写不方便，可以采用[𝑖,𝑗, … , 𝑘]的方\n",
    "式索引，它们是等价的。"
   ],
   "metadata": {
    "collapsed": false
   },
   "id": "a91a65d0502a2b42"
  },
  {
   "cell_type": "code",
   "execution_count": null,
   "outputs": [],
   "source": [
    "x[1,9,2]"
   ],
   "metadata": {
    "collapsed": false
   },
   "id": "165514f5c24bb06f"
  },
  {
   "cell_type": "markdown",
   "source": [
    "# 切片\n",
    "通过start: end: step切片方式可以方便地提取一段数据，其中 start 为开始读取位置的索\n",
    "引，end 为结束读取位置的索引(不包含 end 位)，step 为采样步长。\n",
    "以 shape 为[4,32,32,3]的图片张量为例，我们解释如果切片获得不同位置的数据。例如\n",
    "读取第 2,3 张图片，实现如下："
   ],
   "metadata": {
    "collapsed": false
   },
   "id": "450c51b24d76e5f9"
  },
  {
   "cell_type": "code",
   "execution_count": null,
   "outputs": [],
   "source": [
    "x[1:3]"
   ],
   "metadata": {
    "collapsed": false
   },
   "id": "cc5abb0d1ab57dc5"
  },
  {
   "cell_type": "markdown",
   "source": [
    "start: end: step切片方式有很多简写方式，其中 start、end、step 3 个参数可以根据需要\n",
    "选择性地省略，全部省略时即为::，表示从最开始读取到最末尾，步长为 1，即不跳过任何\n",
    "元素。如 x[0,::]表示读取第 1 张图片的所有行，其中::表示在行维度上读取所有行，它等价\n",
    "于 x[0]的写法："
   ],
   "metadata": {
    "collapsed": false
   },
   "id": "e95a3ee95ec86728"
  },
  {
   "cell_type": "code",
   "execution_count": null,
   "outputs": [],
   "source": [
    "x[0,::] # 读取第一张图片"
   ],
   "metadata": {
    "collapsed": false
   },
   "id": "a11f29e4040bcd69"
  },
  {
   "cell_type": "code",
   "execution_count": null,
   "outputs": [],
   "source": [
    "x[:,0:28:2,0:28:2,:]"
   ],
   "metadata": {
    "collapsed": false
   },
   "id": "43c0f1029007f835"
  },
  {
   "cell_type": "markdown",
   "source": [
    "step 可以为负数，考虑最特殊的一种例子，当step = −1时，start: end: −1表\n",
    "示从 start 开始，逆序读取至 end 结束(不包含 end)，索引号𝑒𝑛𝑑 ≤ 𝑠𝑡𝑎𝑟𝑡。考虑一个 0~9 的\n",
    "简单序列向量，逆序取到第 1 号元素，不包含第 1 号："
   ],
   "metadata": {
    "collapsed": false
   },
   "id": "37e4798a569ebd06"
  },
  {
   "cell_type": "code",
   "execution_count": null,
   "outputs": [],
   "source": [
    "x = tf.range(9) # 创建 0~9 向量"
   ],
   "metadata": {
    "collapsed": false
   },
   "id": "78bedae4d36ba93f"
  },
  {
   "cell_type": "code",
   "execution_count": null,
   "outputs": [],
   "source": [
    "x[8:0:-1] # 从 8 取到 0，逆序，不包含 0"
   ],
   "metadata": {
    "collapsed": false
   },
   "id": "a3d20e8d084d1ec9"
  },
  {
   "cell_type": "code",
   "execution_count": null,
   "outputs": [],
   "source": [
    "x[::-1] # 逆序全部元素"
   ],
   "metadata": {
    "collapsed": false
   },
   "id": "8a7dcb563f149dfe"
  },
  {
   "cell_type": "code",
   "execution_count": null,
   "outputs": [],
   "source": [
    "x[::-2] # 逆序间隔采样"
   ],
   "metadata": {
    "collapsed": false
   },
   "id": "b076902dadac1a46"
  },
  {
   "cell_type": "code",
   "execution_count": null,
   "outputs": [],
   "source": [
    "x = tf.random.normal([4,32,32,3])"
   ],
   "metadata": {
    "collapsed": false
   },
   "id": "6595693515a92f83"
  },
  {
   "cell_type": "code",
   "execution_count": null,
   "outputs": [],
   "source": [
    "x[0,::-2,::-2] # 行、列逆序间隔采样"
   ],
   "metadata": {
    "collapsed": false
   },
   "id": "ce696530acd21b76"
  },
  {
   "cell_type": "markdown",
   "source": [
    "当张量的维度数量较多时，不需要采样的维度一般用单冒号:表示采样所有元素，此时\n",
    "有可能出现大量的:出现。继续考虑[4,32,32,3]的图片张量，当需要读取 G 通道上的数据\n",
    "时，前面所有维度全部提取，此时需要写为"
   ],
   "metadata": {
    "collapsed": false
   },
   "id": "b5f483c7ec30a166"
  },
  {
   "cell_type": "code",
   "execution_count": null,
   "outputs": [],
   "source": [
    "x[:,:,:,1] # 取 G 通道数据 "
   ],
   "metadata": {
    "collapsed": false
   },
   "id": "d7ea6deddb80bff4"
  },
  {
   "cell_type": "markdown",
   "source": [
    "读取最后 2 张图片，代码如下"
   ],
   "metadata": {
    "collapsed": false
   },
   "id": "da79a2aa32aebbf"
  },
  {
   "cell_type": "code",
   "execution_count": null,
   "outputs": [],
   "source": [
    "x[2:,...] # 高、宽、通道维度全部采集，等价于 x[2:]"
   ],
   "metadata": {
    "collapsed": false
   }
  },
  {
   "cell_type": "markdown",
   "source": [],
   "metadata": {
    "collapsed": false
   },
   "id": "eb4bcef71883391d"
  }
 ],
 "metadata": {
  "kernelspec": {
   "display_name": "Python 3",
   "language": "python",
   "name": "python3"
  },
  "language_info": {
   "codemirror_mode": {
    "name": "ipython",
    "version": 2
   },
   "file_extension": ".py",
   "mimetype": "text/x-python",
   "name": "python",
   "nbconvert_exporter": "python",
   "pygments_lexer": "ipython2",
   "version": "2.7.6"
  }
 },
 "nbformat": 4,
 "nbformat_minor": 5
}
