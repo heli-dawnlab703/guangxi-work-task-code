{
 "cells": [
  {
   "cell_type": "code",
   "execution_count": null,
   "id": "initial_id",
   "metadata": {
    "collapsed": true
   },
   "outputs": [],
   "source": [
    "import tensorflow as tf"
   ]
  },
  {
   "cell_type": "code",
   "execution_count": null,
   "outputs": [],
   "source": [
    "tf.constant(123456789, dtype=tf.int16)\n",
    "\n",
    "tf.constant(123456789, dtype=tf.int32)"
   ],
   "metadata": {
    "collapsed": false
   },
   "id": "4d3da5cd2fa50799"
  },
  {
   "cell_type": "markdown",
   "source": [
    "保存精度过低时，数据 123456789 发生了溢出，得到了错误的结果，一般使用\n",
    "tf.int32、tf.int64 精度。对于浮点数，高精度的张量可以表示更精准的数据，例如采用\n",
    "tf.float32 精度保存π时，实际保存的数据为 3.1415927。代码如下："
   ],
   "metadata": {
    "collapsed": false
   },
   "id": "338c2314b6460a79"
  },
  {
   "cell_type": "code",
   "execution_count": null,
   "outputs": [],
   "source": [
    "import numpy as np"
   ],
   "metadata": {
    "collapsed": false
   },
   "id": "e2cfcf40ffe78f5b"
  },
  {
   "cell_type": "code",
   "execution_count": null,
   "outputs": [],
   "source": [
    "np.pi # 从 numpy 中导入 pi 常量"
   ],
   "metadata": {
    "collapsed": false
   },
   "id": "fd1a0ef3caed8dca"
  },
  {
   "cell_type": "code",
   "execution_count": null,
   "outputs": [],
   "source": [
    "tf.constant(np.pi, dtype=tf.float32) # 32 位"
   ],
   "metadata": {
    "collapsed": false
   },
   "id": "35b97fbcbd1e7d8c"
  },
  {
   "cell_type": "markdown",
   "source": [
    "如果采用 tf.float64 精度保存π，则能获得更高的精度，实现如下："
   ],
   "metadata": {
    "collapsed": false
   },
   "id": "21927a83d671c13e"
  },
  {
   "cell_type": "code",
   "execution_count": null,
   "outputs": [],
   "source": [
    "tf.constant(np.pi, dtype=tf.float64) # 64 位"
   ],
   "metadata": {
    "collapsed": false
   },
   "id": "a21364bb5e73442c"
  },
  {
   "cell_type": "markdown",
   "source": [
    "对于大部分深度学习算法，一般使用 tf.int32 和 tf.float32 可满足大部分场合的运算精\n",
    "度要求，部分对精度要求较高的算法，如强化学习某些算法，可以选择使用 tf.int64 和\n",
    "tf.float64 精度保存张量。"
   ],
   "metadata": {
    "collapsed": false
   },
   "id": "abf902425db78e66"
  },
  {
   "cell_type": "code",
   "execution_count": null,
   "outputs": [],
   "source": [
    "a = tf.constant(np.pi, dtype=tf.float16) # 创建 tf.float16 低精度张量\n",
    "tf.cast(a, tf.double) # 转换为高精度张量"
   ],
   "metadata": {
    "collapsed": false
   },
   "id": "e2cc4341222b6af"
  },
  {
   "cell_type": "code",
   "execution_count": null,
   "outputs": [],
   "source": [
    "a = tf.constant(np.pi, dtype=tf.float16) # 创建 tf.float16 低精度张量\n",
    "tf.cast(a, tf.double) # 转换为高精度张量"
   ],
   "metadata": {
    "collapsed": false
   },
   "id": "c20939323dbcd9c5"
  },
  {
   "cell_type": "code",
   "execution_count": null,
   "outputs": [],
   "source": [
    "a = tf.constant(123456789, dtype=tf.int32)\n",
    "tf.cast(a, tf.int16) # 转换为低精度整型"
   ],
   "metadata": {
    "collapsed": false
   },
   "id": "23cce02e639f1412"
  },
  {
   "cell_type": "code",
   "execution_count": null,
   "outputs": [],
   "source": [
    "a = tf.constant([True, False])\n",
    "tf.cast(a, tf.int32) # 布尔类型转整型"
   ],
   "metadata": {
    "collapsed": false
   },
   "id": "bf0a729da6c86e1b"
  },
  {
   "cell_type": "code",
   "execution_count": null,
   "outputs": [],
   "source": [
    "a = tf.constant([-1, 0, 1, 2])\n",
    "tf.cast(a, tf.bool) # 整型转布尔类型"
   ],
   "metadata": {
    "collapsed": false
   },
   "id": "20085441caf8068b"
  }
 ],
 "metadata": {
  "kernelspec": {
   "display_name": "Python 3",
   "language": "python",
   "name": "python3"
  },
  "language_info": {
   "codemirror_mode": {
    "name": "ipython",
    "version": 2
   },
   "file_extension": ".py",
   "mimetype": "text/x-python",
   "name": "python",
   "nbconvert_exporter": "python",
   "pygments_lexer": "ipython2",
   "version": "2.7.6"
  }
 },
 "nbformat": 4,
 "nbformat_minor": 5
}
