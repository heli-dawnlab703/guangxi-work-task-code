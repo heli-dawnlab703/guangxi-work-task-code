{
 "cells": [
  {
   "cell_type": "markdown",
   "source": [
    "𝑓(𝑥, 𝑦) = (𝑥2 + 𝑦 − 11)2 + (𝑥 + 𝑦2 − 7)2"
   ],
   "metadata": {
    "collapsed": false
   }
  },
  {
   "cell_type": "code",
   "execution_count": null,
   "outputs": [],
   "source": [
    "import numpy as np\n",
    "import tensorflow as tf"
   ],
   "metadata": {
    "collapsed": false
   }
  },
  {
   "cell_type": "code",
   "execution_count": null,
   "outputs": [],
   "source": [
    "def himmelblau(x):\n",
    " # himmelblau 函数实现，传入参数 x 为 2 个元素的 List\n",
    "    return (x[0] ** 2 + x[1] - 11) ** 2 + (x[0] + x[1] ** 2 - 7) ** 2"
   ],
   "metadata": {
    "collapsed": false
   }
  },
  {
   "cell_type": "code",
   "execution_count": null,
   "metadata": {
    "collapsed": true
   },
   "outputs": [],
   "source": [
    "x = np.arange(-6, 6, 0.1) # 可视化的 x 坐标范围为-6~6\n",
    "y = np.arange(-6, 6, 0.1) # 可视化的 y 坐标范围为-6~6\n",
    "print('x,y range:', x.shape, y.shape)\n",
    "# 生成 x-y 平面采样网格点，方便可视化\n",
    "X, Y = np.meshgrid(x, y)\n",
    "print('X,Y maps:', X.shape, Y.shape)\n",
    "Z = himmelblau([X, Y]) # 计算网格点上的函数值"
   ]
  },
  {
   "cell_type": "code",
   "execution_count": null,
   "outputs": [],
   "source": [
    "%matplotlib\n",
    "import matplotlib.pyplot as plt\n",
    "# 绘制 himmelblau 函数曲面\n",
    "fig = plt.figure('himmelblau')\n",
    "ax = fig.gca(projection='3d') # 设置 3D 坐标轴\n",
    "ax.plot_surface(X, Y, Z) # 3D 曲面图\n",
    "ax.view_init(60, -30)\n",
    "ax.set_xlabel('x')\n",
    "ax.set_ylabel('y')\n",
    "plt.show()"
   ],
   "metadata": {
    "collapsed": false
   }
  },
  {
   "cell_type": "code",
   "execution_count": null,
   "outputs": [],
   "source": [
    "# 参数的初始化值对优化的影响不容忽视，可以通过尝试不同的初始化值，\n",
    "# 检验函数优化的极小值情况\n",
    "# [1., 0.], [-4, 0.], [4, 0.]\n",
    "x = tf.constant([4., 0.]) # 初始化参数\n",
    "for step in range(200):# 循环优化 200 次\n",
    "     with tf.GradientTape() as tape: #梯度跟踪\n",
    "         tape.watch([x]) # 加入梯度跟踪列表\n",
    "         y = himmelblau(x) # 前向传播\n",
    "     # 反向传播\n",
    "     grads = tape.gradient(y, [x])[0]\n",
    "     # 更新参数,0.01 为学习率\n",
    "     x -= 0.01*grads\n",
    "     # 打印优化的极小值\n",
    "     if step % 20 == 19:\n",
    "        print ('step {}: x = {}, f(x) = {}'.format(step, x.numpy(), y.numpy()))"
   ],
   "metadata": {
    "collapsed": false
   }
  },
  {
   "cell_type": "code",
   "execution_count": null,
   "outputs": [],
   "source": [],
   "metadata": {
    "collapsed": false
   }
  },
  {
   "cell_type": "markdown",
   "source": [],
   "metadata": {
    "collapsed": false
   }
  }
 ],
 "metadata": {
  "kernelspec": {
   "display_name": "Python 3",
   "language": "python",
   "name": "python3"
  },
  "language_info": {
   "codemirror_mode": {
    "name": "ipython",
    "version": 2
   },
   "file_extension": ".py",
   "mimetype": "text/x-python",
   "name": "python",
   "nbconvert_exporter": "python",
   "pygments_lexer": "ipython2",
   "version": "2.7.6"
  }
 },
 "nbformat": 4,
 "nbformat_minor": 0
}
