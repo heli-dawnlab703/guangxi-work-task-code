{
 "cells": [
  {
   "cell_type": "markdown",
   "source": [
    "# 自定义权值\n",
    "在 TensorFlow 中，通过 tf.nn.conv2d 函数可以方便地实现 2D 卷积运算。tf.nn.conv2d\n",
    "基于输入𝑿: [b ℎ 𝑤 𝑐𝑖𝑛 ]和卷积核𝑾: [𝑘 𝑘 𝑐𝑖𝑛 𝑐𝑜𝑢𝑡] 进行卷积运算，得到输出\n",
    "𝑶[b ℎ′ 𝑤′ 𝑐𝑜𝑢𝑡] ，其中𝑐𝑖𝑛表示输入通道数，𝑐𝑜𝑢𝑡表示卷积核的数量，也是输出特征图的通\n",
    "道数。"
   ],
   "metadata": {
    "collapsed": false
   }
  },
  {
   "cell_type": "code",
   "execution_count": null,
   "metadata": {
    "collapsed": true,
    "is_executing": true
   },
   "outputs": [],
   "source": [
    "import tensorflow as tf"
   ]
  },
  {
   "cell_type": "code",
   "execution_count": null,
   "outputs": [],
   "source": [
    "x = tf.random.normal([2,5,5,3]) # 模拟输入，3 通道，高宽为 5"
   ],
   "metadata": {
    "collapsed": false
   }
  },
  {
   "cell_type": "code",
   "execution_count": null,
   "outputs": [],
   "source": [
    "# 需要根据[k,k,cin,cout]格式创建 W 张量，4 个 3x3 大小卷积核\n",
    "w = tf.random.normal([3,3,3,4])\n",
    "# 步长为 1, padding 为 0,\n",
    "out = tf.nn.conv2d(x,w,strides=1,padding=[[0,0],[0,0],[0,0],[0,0]])"
   ],
   "metadata": {
    "collapsed": false
   }
  },
  {
   "cell_type": "markdown",
   "source": [
    "其中 padding 参数的设置格式为：\n",
    "padding=[[0,0],[上,下],[左,右],[0,0]]\n",
    "例如，上下左右各填充一个单位，则 padding 参数设置为 ，实现如\n",
    "下："
   ],
   "metadata": {
    "collapsed": false
   }
  },
  {
   "cell_type": "code",
   "execution_count": null,
   "outputs": [],
   "source": [
    "x = tf.random.normal([2,5,5,3]) # 模拟输入，3 通道，高宽为 5\n",
    "# 需要根据[k,k,cin,cout]格式创建，4 个 3x3 大小卷积核\n",
    "w = tf.random.normal([3,3,3,4])\n",
    "# 步长为 1, padding 为 1,"
   ],
   "metadata": {
    "collapsed": false
   }
  },
  {
   "cell_type": "code",
   "execution_count": null,
   "outputs": [],
   "source": [
    "out = tf.nn.conv2d(x,w,strides=1,padding=[[0,0],[1,1],[1,1],[0,0]])"
   ],
   "metadata": {
    "collapsed": false
   }
  },
  {
   "cell_type": "code",
   "execution_count": null,
   "outputs": [],
   "source": [],
   "metadata": {
    "collapsed": false
   }
  },
  {
   "cell_type": "markdown",
   "source": [
    "特别地，通过设置参数 padding='SAME'、strides=1 可以直接得到输入、输出同大小的\n",
    "卷积层，其中 padding 的具体数量由 TensorFlow 自动计算并完成填充操作。"
   ],
   "metadata": {
    "collapsed": false
   }
  },
  {
   "cell_type": "code",
   "execution_count": null,
   "outputs": [],
   "source": [
    "x = tf.random.normal([2,5,5,3]) # 模拟输入，3 通道，高宽为 5\n",
    "w = tf.random.normal([3,3,3,4]) # 4 个 3x3 大小的卷积核\n",
    "# 步长为,padding 设置为输出、输入同大小\n",
    "# 需要注意的是, padding=same 只有在 strides=1 时才是同大小\n",
    "out = tf.nn.conv2d(x,w,strides=1,padding='SAME')"
   ],
   "metadata": {
    "collapsed": false
   }
  },
  {
   "cell_type": "markdown",
   "source": [
    "当𝑠 > 时，设置 padding='SAME'将使得输出高、宽将成1/𝑠\n",
    "倍地减少。例如"
   ],
   "metadata": {
    "collapsed": false
   }
  },
  {
   "cell_type": "code",
   "execution_count": null,
   "outputs": [],
   "source": [
    "x = tf.random.normal([2,5,5,3])\n",
    "w = tf.random.normal([3,3,3,4])\n",
    "# 高宽先 padding 成可以整除 3 的最小整数 6，然后 6 按 3 倍减少，得到 2x2\n",
    "out = tf.nn.conv2d(x,w,strides=3,padding='SAME')"
   ],
   "metadata": {
    "collapsed": false
   }
  },
  {
   "cell_type": "markdown",
   "source": [
    "卷积神经网络层与全连接层一样，可以设置网络带偏置向量。tf.nn.conv2d 函数是没有\n",
    "实现偏置向量计算的，添加偏置只需要手动累加偏置张量即可。"
   ],
   "metadata": {
    "collapsed": false
   }
  },
  {
   "cell_type": "code",
   "execution_count": null,
   "outputs": [],
   "source": [
    "# 根据[cout]格式创建偏置向量\n",
    "b = tf.zeros([4])\n",
    "# 在卷积输出上叠加偏置向量，它会自动 broadcasting 为[b,h',w',cout]\n",
    "out = out + b"
   ],
   "metadata": {
    "collapsed": false
   }
  },
  {
   "cell_type": "markdown",
   "source": [
    "# 卷积层类"
   ],
   "metadata": {
    "collapsed": false
   }
  },
  {
   "cell_type": "markdown",
   "source": [
    "通过卷积层类 layers.Conv2D 可以不需要手动定义卷积核𝑾和偏置𝒃张量，直接调用类\n",
    "实例即可完成卷积层的前向计算，实现更加高层和快捷。在 TensorFlow 中，API 的命名有\n",
    "一定的规律，首字母大写的对象一般表示类，全部小写的一般表示函数，如 layers.Conv2D\n",
    "表示卷积层类，nn.conv2d 表示卷积运算函数。使用类方式会(在创建类时或 build 时)自动\n",
    "创建需要的权值张量和偏置向量等，用户不需要记忆卷积核张量的定义格式，因此使用起\n",
    "来更简单方便，但是灵活性也略低。函数方式的接口需要自行定义权值和偏置等，更加灵\n",
    "活和底层。\n",
    "\n",
    "在新建卷积层类时，只需要指定卷积核数量参数 filters，卷积核大小 kernel_size，步长\n",
    "strides，填充 padding 等即可。如下创建了 4 个3 × 3大小的卷积核的卷积层，步长为 1，\n",
    "padding 方案为'SAME'："
   ],
   "metadata": {
    "collapsed": false
   }
  },
  {
   "cell_type": "code",
   "execution_count": null,
   "outputs": [],
   "source": [
    "from tensorflow.keras import layers\n",
    "\n",
    "layer = layers.Conv2D(4,kernel_size=3,strides=1,padding='SAME')"
   ],
   "metadata": {
    "collapsed": false
   }
  },
  {
   "cell_type": "markdown",
   "source": [
    "如果卷积核高宽不等，步长行列方向不等，此时需要将 kernel_size 参数设计为 tuple\n",
    "格式(𝑘ℎ 𝑘𝑤)，strides 参数设计为(𝑠ℎ 𝑠𝑤)。如下创建 4 个3 ×4 大小的卷积核，竖直方向移\n",
    "动步长𝑠ℎ = 2，水平方向移动步长𝑠𝑤 =1 ："
   ],
   "metadata": {
    "collapsed": false
   }
  },
  {
   "cell_type": "code",
   "execution_count": null,
   "outputs": [],
   "source": [
    "layer = layers.Conv2D(4,kernel_size=(3,4),strides=(2,1),padding='SAME')"
   ],
   "metadata": {
    "collapsed": false
   }
  },
  {
   "cell_type": "code",
   "execution_count": null,
   "outputs": [],
   "source": [
    "# 创建卷积层类\n",
    "layer = layers.Conv2D(4,kernel_size=3,strides=1,padding='SAME')\n",
    "out = layer(x) # 前向计算\n",
    "out.shape # 输出张量的 shape"
   ],
   "metadata": {
    "collapsed": false
   }
  },
  {
   "cell_type": "markdown",
   "source": [
    "在类 Conv2D 中，保存了卷积核张量𝑾和偏置𝒃，可以通过类成员 trainable_variables\n",
    "直接返回𝑾和𝒃的列表。"
   ],
   "metadata": {
    "collapsed": false
   }
  },
  {
   "cell_type": "code",
   "execution_count": null,
   "outputs": [],
   "source": [
    "layer.trainable_variables"
   ],
   "metadata": {
    "collapsed": false
   }
  },
  {
   "cell_type": "markdown",
   "source": [
    "通过调用 layer.trainable_variables 可以返回 Conv2D 类维护的𝑾和𝒃张量，这个类成\n",
    "员在获取网络层的待优化变量时非常有用。也可以直接调用类实例 layer.kernel、layer.bias\n",
    "名访问𝑾和𝒃张量."
   ],
   "metadata": {
    "collapsed": false
   }
  },
  {
   "cell_type": "code",
   "execution_count": null,
   "outputs": [],
   "source": [
    "layers.MaxPooling2D(pool_size=2,strides=2), # 高宽各减半的池化层\n",
    "\n",
    "layers.Flatten(), # 打平层，方便全连接层处理"
   ],
   "metadata": {
    "collapsed": false
   }
  }
 ],
 "metadata": {
  "kernelspec": {
   "display_name": "Python 3",
   "language": "python",
   "name": "python3"
  },
  "language_info": {
   "codemirror_mode": {
    "name": "ipython",
    "version": 2
   },
   "file_extension": ".py",
   "mimetype": "text/x-python",
   "name": "python",
   "nbconvert_exporter": "python",
   "pygments_lexer": "ipython2",
   "version": "2.7.6"
  }
 },
 "nbformat": 4,
 "nbformat_minor": 0
}
