{
 "cells": [
  {
   "cell_type": "markdown",
   "source": [
    "以 ResNet50 网络模型为例，一般将 ResNet50 去除最后一层后的网络作为新任务的特\n",
    "征提取子网络，即利用在 ImageNet 数据集上预训练好的网络参数初始化，并根据自定义任\n",
    "务的类别追加一个对应数据类别数的全连接分类层或子网络，从而可以在预训练网络的基\n",
    "础上快速、高效地学习新任务"
   ],
   "metadata": {
    "collapsed": false
   }
  },
  {
   "cell_type": "code",
   "execution_count": null,
   "metadata": {
    "collapsed": true
   },
   "outputs": [],
   "source": [
    "from tensorflow import keras\n",
    "import tensorflow as tf\n",
    "# 加载 ImageNet 预训练网络模型，并去掉最后一层\n",
    "resnet = keras.applications.ResNet50(weights='imagenet',include_top=False)\n",
    "resnet.summary()\n",
    "# 测试网络的输出\n",
    "x = tf.random.normal([4,224,224,3])\n",
    "out = resnet(x) # 获得子网络的输出\n",
    "out.shape\n",
    "\n"
   ]
  },
  {
   "cell_type": "markdown",
   "source": [
    "上述代码自动从服务器下载模型结构和在 ImageNet 数据集上预训练好的网络参数。通过设\n",
    "置 include_top 参数为 False，可以选择去掉 ResNet50 最后一层，此时网络的输出特征图大\n",
    "小为[𝑏, 7,7,2048]。对于某个具体的任务，需要设置自定义的输出节点数，以 100 类的分类\n",
    "任务为例，我们在 ResNet50 基础上重新构建新网络。新建一个池化层(这里的池化层暂时\n",
    "可以理解为高、宽维度下采样的功能)，将特征从[𝑏, 7,7,2048]降维到[𝑏, 2048]。"
   ],
   "metadata": {
    "collapsed": false
   }
  },
  {
   "cell_type": "code",
   "execution_count": null,
   "outputs": [],
   "source": [
    "from tensorflow.keras import layers\n",
    "\n",
    "# 新建池化层\n",
    "global_average_layer = layers.GlobalAveragePooling2D()\n",
    "# 利用上一层的输出作为本层的输入，测试其输出\n",
    "x = tf.random.normal([4,7,7,2048])"
   ],
   "metadata": {
    "collapsed": false
   }
  },
  {
   "cell_type": "code",
   "execution_count": null,
   "outputs": [],
   "source": [
    "# 池化层降维，形状由[4,7,7,2048]变为[4,1,1,2048],删减维度后变为[4,2048]\n",
    "out = global_average_layer(x)\n",
    "print(out.shape)"
   ],
   "metadata": {
    "collapsed": false
   }
  },
  {
   "cell_type": "code",
   "execution_count": null,
   "outputs": [],
   "source": [
    "# 新建全连接层\n",
    "fc = layers.Dense(100)\n",
    "# 利用上一层的输出[4,2048]作为本层的输入，测试其输出\n",
    "x = tf.random.normal([4,2048])\n",
    "out = fc(x) # 输出层的输出为样本属于 100 类别的概率分布\n",
    "print(out.shape)"
   ],
   "metadata": {
    "collapsed": false
   }
  },
  {
   "cell_type": "markdown",
   "source": [
    "在创建预训练的 ResNet50 特征子网络、新建的池化层和全连接层后，我们重新利用\n",
    "Sequential 容器封装成一个新的网络："
   ],
   "metadata": {
    "collapsed": false
   }
  },
  {
   "cell_type": "code",
   "execution_count": null,
   "outputs": [],
   "source": [
    "from tensorflow.keras.models import Sequential\n",
    "\n",
    "# 重新包裹成我们的网络模型\n",
    "mynet = Sequential([resnet, global_average_layer, fc])\n",
    "mynet.summary()"
   ],
   "metadata": {
    "collapsed": false
   }
  },
  {
   "cell_type": "code",
   "execution_count": null,
   "outputs": [],
   "source": [],
   "metadata": {
    "collapsed": false
   }
  },
  {
   "cell_type": "markdown",
   "source": [],
   "metadata": {
    "collapsed": false
   }
  }
 ],
 "metadata": {
  "kernelspec": {
   "display_name": "Python 3",
   "language": "python",
   "name": "python3"
  },
  "language_info": {
   "codemirror_mode": {
    "name": "ipython",
    "version": 2
   },
   "file_extension": ".py",
   "mimetype": "text/x-python",
   "name": "python",
   "nbconvert_exporter": "python",
   "pygments_lexer": "ipython2",
   "version": "2.7.6"
  }
 },
 "nbformat": 4,
 "nbformat_minor": 0
}
