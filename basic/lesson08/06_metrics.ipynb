{
 "cells": [
  {
   "cell_type": "markdown",
   "source": [
    "在网络的训练过程中，经常需要统计准确率、召回率等测量指标，除了可以通过手动\n",
    "计算的方式获取这些统计数据外，Keras 提供了一些常用的测量工具，位于 keras.metrics 模\n",
    "块中，专门用于统计训练过程中常用的指标数据。\n",
    "Keras 的测量工具的使用方法一般有 4 个主要步骤：新建测量器，写入数据，读取统\n",
    "计数据和清零测量器。\n",
    "\n",
    "# 新建测量器\n",
    "在 keras.metrics 模块中，提供了较多的常用测量器类，如统计平均值的 Mean 类，统\n",
    "计准确率的 Accuracy 类，统计余弦相似度的 CosineSimilarity 类等。下面我们以统计误差\n",
    "值为例。在前向运算时，我们会得到每一个 Batch 的平均误差，但是我们希望统计每个\n",
    "Step 的平均误差，因此选择使用 Mean 测量器。新建一个平均测量器，"
   ],
   "metadata": {
    "collapsed": false
   }
  },
  {
   "cell_type": "code",
   "execution_count": null,
   "metadata": {
    "collapsed": true
   },
   "outputs": [],
   "source": [
    "from tensorflow import metrics\n",
    "\n",
    "loss = 1\n",
    "# 新建平均测量器，适合 Loss 数据\n",
    "loss_meter = metrics.Mean()"
   ]
  },
  {
   "cell_type": "markdown",
   "source": [
    "# 写入数据"
   ],
   "metadata": {
    "collapsed": false
   }
  },
  {
   "cell_type": "markdown",
   "source": [
    "通过测量器的 update_state 函数可以写入新的数据，测量器会根据自身逻辑记录并处理\n",
    "采样数据。\n",
    "例如，在每个 Step 结束时采集一次 loss 值，代码如下："
   ],
   "metadata": {
    "collapsed": false
   }
  },
  {
   "cell_type": "code",
   "execution_count": null,
   "outputs": [],
   "source": [
    "# 记录采样的数据，通过 float()函数将张量转换为普通数值\n",
    "loss_meter.update_state(float(loss))"
   ],
   "metadata": {
    "collapsed": false
   }
  },
  {
   "cell_type": "markdown",
   "source": [
    "上述采样代码放置在每个 Batch 运算结束后，测量器会自动根据采样的数据来统计平均\n",
    "值。\n",
    "\n",
    "# 读取统计信息\n",
    "在采样多次数据后，可以选择在需要的地方调用测量器的 result()函数，来获取统计\n",
    "值。例如，间隔性统计 loss 均值"
   ],
   "metadata": {
    "collapsed": false
   }
  },
  {
   "cell_type": "code",
   "execution_count": null,
   "outputs": [],
   "source": [
    "step=0\n",
    "# 打印统计期间的平均 loss\n",
    "print(step, 'loss:', loss_meter.result())"
   ],
   "metadata": {
    "collapsed": false
   }
  },
  {
   "cell_type": "markdown",
   "source": [
    "# 清除状态\n",
    "由于测量器会统计所有历史记录的数据，因此在启动新一轮统计时，有必要清除历史\n",
    "状态。通过 reset_states()即可实现清除状态功能。例如，在每次读取完平均误差后，清零统\n",
    "计信息，以便下一轮统计的开始"
   ],
   "metadata": {
    "collapsed": false
   }
  },
  {
   "cell_type": "code",
   "execution_count": null,
   "outputs": [],
   "source": [
    " if step % 100 == 0:\n",
    "     # 打印统计的平均 loss\n",
    "     print(step, 'loss:', loss_meter.result())\n",
    "     loss_meter.reset_states() # 打印完后，清零测量器"
   ],
   "metadata": {
    "collapsed": false
   }
  }
 ],
 "metadata": {
  "kernelspec": {
   "display_name": "Python 3",
   "language": "python",
   "name": "python3"
  },
  "language_info": {
   "codemirror_mode": {
    "name": "ipython",
    "version": 2
   },
   "file_extension": ".py",
   "mimetype": "text/x-python",
   "name": "python",
   "nbconvert_exporter": "python",
   "pygments_lexer": "ipython2",
   "version": "2.7.6"
  }
 },
 "nbformat": 4,
 "nbformat_minor": 0
}
