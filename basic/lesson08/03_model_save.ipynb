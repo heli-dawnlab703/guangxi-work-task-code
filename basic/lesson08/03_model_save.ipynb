{
 "cells": [
  {
   "cell_type": "markdown",
   "source": [
    "在 Keras 中，有三种常用的模型保存与加载方法。\n",
    "# 张量方式\n",
    "通过调用 Model.save_weights(path)方法即可将当前的\n",
    "网络参数保存到 path 文件上，代码如下："
   ],
   "metadata": {
    "collapsed": false
   }
  },
  {
   "cell_type": "code",
   "execution_count": null,
   "outputs": [],
   "source": [
    "import  os\n",
    "os.environ['TF_CPP_MIN_LOG_LEVEL']='2'\n",
    "\n",
    "import  tensorflow as tf\n",
    "from    tensorflow.keras import datasets, layers, optimizers, Sequential, metrics\n",
    "\n",
    "\n",
    "def preprocess(x, y):\n",
    "    \"\"\"\n",
    "    x is a simple image, not a batch\n",
    "    \"\"\"\n",
    "    x = tf.cast(x, dtype=tf.float32) / 255.\n",
    "    x = tf.reshape(x, [28*28])\n",
    "    y = tf.cast(y, dtype=tf.int32)\n",
    "    y = tf.one_hot(y, depth=10)\n",
    "    return x,y\n",
    "\n",
    "\n",
    "batchsz = 128\n",
    "(x, y), (x_val, y_val) = datasets.mnist.load_data()\n",
    "print('datasets:', x.shape, y.shape, x.min(), x.max())\n",
    "\n",
    "\n",
    "\n",
    "db = tf.data.Dataset.from_tensor_slices((x,y))\n",
    "db = db.map(preprocess).shuffle(60000).batch(batchsz)\n",
    "ds_val = tf.data.Dataset.from_tensor_slices((x_val, y_val))\n",
    "ds_val = ds_val.map(preprocess).batch(batchsz)\n",
    "\n",
    "sample = next(iter(db))\n",
    "print(sample[0].shape, sample[1].shape)\n",
    "\n",
    "\n",
    "network = Sequential([layers.Dense(256, activation='relu'),\n",
    "                     layers.Dense(128, activation='relu'),\n",
    "                     layers.Dense(64, activation='relu'),\n",
    "                     layers.Dense(32, activation='relu'),\n",
    "                     layers.Dense(10)])\n",
    "network.build(input_shape=(None, 28*28))\n",
    "network.summary()\n",
    "\n",
    "\n",
    "\n",
    "\n",
    "network.compile(optimizer=optimizers.Adam(lr=0.01),\n",
    "\t\tloss=tf.losses.CategoricalCrossentropy(from_logits=True),\n",
    "\t\tmetrics=['accuracy']\n",
    "\t)\n",
    "\n",
    "network.fit(db, epochs=3, validation_data=ds_val, validation_freq=2)\n",
    "\n",
    "network.evaluate(ds_val)\n"
   ],
   "metadata": {
    "collapsed": false
   }
  },
  {
   "cell_type": "code",
   "execution_count": null,
   "metadata": {
    "collapsed": true
   },
   "outputs": [],
   "source": [
    "network.save_weights('weights.ckpt') # 保存模型的所有张量数据"
   ]
  },
  {
   "cell_type": "markdown",
   "source": [
    "上述代码将 network 模型保存到 weights.ckpt 文件上。在需要的时候，先创建好网络对象，\n",
    "然后调用网络对象的 load_weights(path)方法即可将指定的模型文件中保存的张量数值写入\n",
    "到当前网络参数中去，例如："
   ],
   "metadata": {
    "collapsed": false
   }
  },
  {
   "cell_type": "code",
   "execution_count": null,
   "outputs": [],
   "source": [
    "# 保存模型参数到文件上\n",
    "network.save_weights('weights.ckpt')\n",
    "print('saved weights.')\n",
    "del network # 删除网络对象"
   ],
   "metadata": {
    "collapsed": false
   }
  },
  {
   "cell_type": "code",
   "execution_count": null,
   "outputs": [],
   "source": [
    "# 重新创建相同的网络结构\n",
    "network = Sequential([layers.Dense(256, activation='relu'),\n",
    " layers.Dense(128, activation='relu'),\n",
    " layers.Dense(64, activation='relu'),\n",
    " layers.Dense(32, activation='relu'),\n",
    " layers.Dense(10)])\n",
    "network.compile(optimizer=optimizers.Adam(lr=0.01),\n",
    "loss=tf.losses.CategoricalCrossentropy(from_logits=True),\n",
    "metrics=['accuracy']\n",
    " )\n",
    "# 从参数文件中读取数据并写入当前网络\n",
    "network.load_weights('weights.ckpt')\n",
    "print('loaded weights!')"
   ],
   "metadata": {
    "collapsed": false
   }
  },
  {
   "cell_type": "markdown",
   "source": [
    "这种保存与加载网络的方式最为轻量级，文件中保存的仅仅是张量参数的数值，并没有其\n",
    "它额外的结构参数。但是它需要使用相同的网络结构才能够正确恢复网络状态，因此一般\n",
    "在拥有网络源文件的情况下使用"
   ],
   "metadata": {
    "collapsed": false
   }
  },
  {
   "cell_type": "markdown",
   "source": [
    "# 网络方式\n",
    "介绍一种不需要网络源文件，仅仅需要模型参数文件即可恢复出网络模型的方\n",
    "法。通过 Model.save(path)函数可以将模型的结构以及模型的参数保存到 path 文件上，在不\n",
    "需要网络源文件的条件下，通过 keras.models.load_model(path)即可恢复网络结构和网络参\n",
    "数。"
   ],
   "metadata": {
    "collapsed": false
   }
  },
  {
   "cell_type": "code",
   "execution_count": null,
   "outputs": [],
   "source": [
    "# 保存模型结构与模型参数到文件\n",
    "network.save('model.h5')\n",
    "print('saved total model.')\n",
    "del network # 删除网络对象"
   ],
   "metadata": {
    "collapsed": false
   }
  },
  {
   "cell_type": "code",
   "execution_count": null,
   "outputs": [],
   "source": [
    "from tensorflow import keras\n",
    "\n",
    "# 从文件恢复网络结构与网络参数\n",
    "network = keras.models.load_model('model.h5')"
   ],
   "metadata": {
    "collapsed": false
   }
  },
  {
   "cell_type": "markdown",
   "source": [
    "model.h5 文件除了保存了模型参数外，还应保存了网络结构信息，不需要提前\n",
    "创建模型即可直接从文件中恢复出网络 network 对象。"
   ],
   "metadata": {
    "collapsed": false
   }
  },
  {
   "cell_type": "markdown",
   "source": [
    "# SavedModel方式"
   ],
   "metadata": {
    "collapsed": false
   }
  },
  {
   "cell_type": "code",
   "execution_count": null,
   "outputs": [],
   "source": [
    "# 保存模型结构与模型参数到文件\n",
    "tf.saved_model.save(network, 'model-savedmodel')\n",
    "print('saving savedmodel.')\n",
    "del network # 删除网络对象"
   ],
   "metadata": {
    "collapsed": false
   }
  },
  {
   "cell_type": "markdown",
   "source": [
    "用户无需关心文件的保存格式，只需要通过 tf.saved_model.load 函数即可恢复出模型\n",
    "对象，我们在恢复出模型实例后，完成测试准确率的计算，实现如下"
   ],
   "metadata": {
    "collapsed": false
   }
  },
  {
   "cell_type": "code",
   "execution_count": null,
   "outputs": [],
   "source": [
    "print('load savedmodel from file.')\n",
    "# 从文件恢复网络结构与网络参数\n",
    "network = tf.saved_model.load('model-savedmodel')"
   ],
   "metadata": {
    "collapsed": false
   }
  },
  {
   "cell_type": "code",
   "execution_count": null,
   "outputs": [],
   "source": [
    "# 准确率计量器\n",
    "acc_meter = metrics.CategoricalAccuracy()\n",
    "for x,y in ds_val: # 遍历测试集\n",
    "    pred = network(x) # 前向计算\n",
    "    acc_meter.update_state(y_true=y, y_pred=pred) # 更新准确率统计\n",
    "# 打印准确率\n",
    "print(\"Test Accuracy:%f\" % acc_meter.result())"
   ],
   "metadata": {
    "collapsed": false
   }
  },
  {
   "cell_type": "code",
   "execution_count": null,
   "outputs": [],
   "source": [],
   "metadata": {
    "collapsed": false
   }
  },
  {
   "cell_type": "markdown",
   "source": [],
   "metadata": {
    "collapsed": false
   }
  }
 ],
 "metadata": {
  "kernelspec": {
   "display_name": "Python 3",
   "language": "python",
   "name": "python3"
  },
  "language_info": {
   "codemirror_mode": {
    "name": "ipython",
    "version": 2
   },
   "file_extension": ".py",
   "mimetype": "text/x-python",
   "name": "python",
   "nbconvert_exporter": "python",
   "pygments_lexer": "ipython2",
   "version": "2.7.6"
  }
 },
 "nbformat": 4,
 "nbformat_minor": 0
}
