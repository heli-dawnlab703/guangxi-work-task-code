{
 "cells": [
  {
   "cell_type": "markdown",
   "source": [
    "# 常见网络层类"
   ],
   "metadata": {
    "collapsed": false
   }
  },
  {
   "cell_type": "code",
   "execution_count": null,
   "metadata": {
    "collapsed": true
   },
   "outputs": [],
   "source": [
    "import tensorflow as tf\n",
    "# 导入 keras 模型，不能使用 import keras，它导入的是标准的 Keras 库\n",
    "from tensorflow import keras\n",
    "from tensorflow.keras import layers # 导入常见网络层类"
   ]
  },
  {
   "cell_type": "code",
   "execution_count": null,
   "outputs": [],
   "source": [
    "x = tf.constant([2.,1.,0.1]) # 创建输入张量\n",
    "layer = layers.Softmax(axis=-1) # 创建 Softmax 层\n",
    "out = layer(x) # 调用 softmax 前向计算，输出为 out"
   ],
   "metadata": {
    "collapsed": false
   }
  },
  {
   "cell_type": "markdown",
   "source": [
    "当然，也可以直接通过 tf.nn.softmax()函数完成计算"
   ],
   "metadata": {
    "collapsed": false
   }
  },
  {
   "cell_type": "code",
   "execution_count": null,
   "outputs": [],
   "source": [
    "out = tf.nn.softmax(x)"
   ],
   "metadata": {
    "collapsed": false
   }
  },
  {
   "cell_type": "markdown",
   "source": [
    "# 网络容器"
   ],
   "metadata": {
    "collapsed": false
   }
  },
  {
   "cell_type": "code",
   "execution_count": null,
   "outputs": [],
   "source": [
    "# 导入 Sequential 容器\n",
    "from tensorflow.keras import layers, Sequential\n",
    "network = Sequential([ # 封装为一个网络\n",
    " layers.Dense(3, activation=None), # 全连接层，此处不使用激活函数\n",
    " layers.ReLU(),#激活函数层\n",
    " layers.Dense(2, activation=None), # 全连接层，此处不使用激活函数\n",
    " layers.ReLU() #激活函数层\n",
    "])\n",
    "x = tf.random.normal([4,3])"
   ],
   "metadata": {
    "collapsed": false
   }
  },
  {
   "cell_type": "code",
   "execution_count": null,
   "outputs": [],
   "source": [
    "layers_num = 2 # 堆叠 2 次\n",
    "network = Sequential([]) # 先创建空的网络容器\n",
    "for _ in range(layers_num):\n",
    "    network.add(layers.Dense(3)) # 添加全连接层\n",
    "    network.add(layers.ReLU())# 添加激活函数层\n",
    "network.build(input_shape=(4, 4)) # 创建网络参数\n",
    "network.summary()"
   ],
   "metadata": {
    "collapsed": false
   }
  },
  {
   "cell_type": "markdown",
   "source": [
    "网络层类并没有创建内部权值张量等成员变量，此时通过调用类的 build 方法并指定\n",
    "输入大小，即可自动创建所有层的内部张量。通过 summary()函数可以方便打印出网络结\n",
    "构和参数量.\n",
    "在深度学习中，当你创建一个神经网络模型时，通常需要在模型的第一层之前定义输入的形状。network.build(input_shape=(4, 4)) 这行代码用于构建神经网络模型，并指定输入数据的形状为 (4, 4)。\n",
    "\n",
    "具体来说，build() 方法是 Keras 中用于构建模型的一个函数，在调用该方法时，你可以传递输入数据的形状作为参数。在这个例子中，输入数据的形状被设置为 (4, 4)。这表示输入数据是一个 4x4 的矩阵。\n",
    "\n",
    "通过这种方式指定输入形状，Keras 将会自动推断出后续层的输入形状，从而构建整个神经网络模型。这对于确保模型的输入与数据的形状相匹配非常重要，因为神经网络的结构和参数通常是根据输入形状来确定的。"
   ],
   "metadata": {
    "collapsed": false
   }
  },
  {
   "cell_type": "markdown",
   "source": [
    "看到 Layer 列为每层的名字，这个名字由 TensorFlow 内部维护，与 Python 的对象名并\n",
    "不一样。Param#列为层的参数个数，Total params 项统计出了总的参数量，Trainable params\n",
    "为总的待优化参数量，Non-trainable params 为总的不需要优化的参数量"
   ],
   "metadata": {
    "collapsed": false
   }
  },
  {
   "cell_type": "markdown",
   "source": [
    "当我们通过 Sequential 容量封装多个网络层时，每层的参数列表将会自动并入\n",
    "Sequential 容器的参数列表中，不需要人为合并网络参数列表，这也是 Sequential 容器的便\n",
    "捷之处。Sequential 对象的 trainable_variables 和 variables 包含了所有层的待优化张量列表\n",
    "和全部张量列表"
   ],
   "metadata": {
    "collapsed": false
   }
  },
  {
   "cell_type": "code",
   "execution_count": null,
   "outputs": [],
   "source": [
    "for p in network.trainable_variables:\n",
    "    print(p.name, p.shape) # 参数名和形状"
   ],
   "metadata": {
    "collapsed": false
   }
  },
  {
   "cell_type": "markdown",
   "source": [],
   "metadata": {
    "collapsed": false
   }
  },
  {
   "cell_type": "code",
   "execution_count": null,
   "outputs": [],
   "source": [],
   "metadata": {
    "collapsed": false
   }
  },
  {
   "cell_type": "markdown",
   "source": [],
   "metadata": {
    "collapsed": false
   }
  }
 ],
 "metadata": {
  "kernelspec": {
   "display_name": "Python 3",
   "language": "python",
   "name": "python3"
  },
  "language_info": {
   "codemirror_mode": {
    "name": "ipython",
    "version": 2
   },
   "file_extension": ".py",
   "mimetype": "text/x-python",
   "name": "python",
   "nbconvert_exporter": "python",
   "pygments_lexer": "ipython2",
   "version": "2.7.6"
  }
 },
 "nbformat": 4,
 "nbformat_minor": 0
}
