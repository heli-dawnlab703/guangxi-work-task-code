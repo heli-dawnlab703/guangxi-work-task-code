{
 "cells": [
  {
   "cell_type": "code",
   "execution_count": null,
   "outputs": [],
   "source": [
    "import  tensorflow as tf\n",
    "from    tensorflow.keras import datasets, layers, optimizers, Sequential, metrics\n",
    "from \ttensorflow import keras"
   ],
   "metadata": {
    "collapsed": false
   }
  },
  {
   "cell_type": "code",
   "execution_count": null,
   "outputs": [],
   "source": [
    "def preprocess(x, y):\n",
    "    \"\"\"\n",
    "    x is a simple image, not a batch\n",
    "    \"\"\"\n",
    "    x = tf.cast(x, dtype=tf.float32) / 255.\n",
    "    x = tf.reshape(x, [28 * 28])\n",
    "    y = tf.cast(y, dtype=tf.int32)\n",
    "    y = tf.one_hot(y, depth=10)\n",
    "    return x, y\n",
    "\n",
    "\n",
    "batchsz = 128\n",
    "(x, y), (x_val, y_val) = datasets.mnist.load_data()\n",
    "print('datasets:', x.shape, y.shape, x.min(), x.max())\n",
    "\n",
    "train_db = tf.data.Dataset.from_tensor_slices((x, y))\n",
    "train_db = train_db.map(preprocess).shuffle(60000).batch(batchsz)\n",
    "ds_val = tf.data.Dataset.from_tensor_slices((x_val, y_val))\n",
    "ds_val = ds_val.map(preprocess).batch(batchsz)\n"
   ],
   "metadata": {
    "collapsed": false
   }
  },
  {
   "cell_type": "markdown",
   "source": [
    "# 模型装配\n",
    "有 2 个比较特殊的类：keras.Model 和 keras.layers.Layer 类。其中 Layer\n",
    "类是网络层的母类，定义了网络层的一些常见功能，如添加权值、管理权值列表等。\n",
    "Model 类是网络的母类，除了具有 Layer 类的功能，还添加了保存模型、加载模型、训练\n",
    "与测试模型等便捷功能。Sequential 也是 Model 的子类，因此具有 Model 类的所有功能。"
   ],
   "metadata": {
    "collapsed": false
   }
  },
  {
   "cell_type": "code",
   "execution_count": null,
   "outputs": [],
   "source": [
    "import tensorflow as tf\n",
    "# 导入 keras 模型，不能使用 import keras，它导入的是标准的 Keras 库\n",
    "from tensorflow import keras\n",
    "from tensorflow.keras import layers # 导入常见网络层类"
   ],
   "metadata": {
    "collapsed": false
   }
  },
  {
   "cell_type": "code",
   "execution_count": null,
   "metadata": {
    "collapsed": true
   },
   "outputs": [],
   "source": [
    "from tensorflow.keras.models import Sequential\n",
    "\n",
    "# 创建 5 层的全连接网络\n",
    "network = Sequential([layers.Dense(256, activation='relu'),\n",
    " layers.Dense(128, activation='relu'),\n",
    " layers.Dense(64, activation='relu'),\n",
    " layers.Dense(32, activation='relu'),\n",
    " layers.Dense(10)])"
   ]
  },
  {
   "cell_type": "code",
   "execution_count": null,
   "outputs": [],
   "source": [
    "network.build(input_shape=(4, 28*28))\n",
    "network.summary()"
   ],
   "metadata": {
    "collapsed": false
   }
  },
  {
   "cell_type": "markdown",
   "source": [
    "创建网络后，正常的流程是循环迭代数据集多个 Epoch，每次按批产生训练数据、前向计\n",
    "算，然后通过损失函数计算误差值，并反向传播自动计算梯度、更新网络参数。这一部分\n",
    "逻辑由于非常通用，在 Keras 中提供了 compile()和 fit()函数方便实现上述逻辑。首先通过\n",
    "compile 函数指定网络使用的优化器对象、损失函数类型，评价指标等设定，这一步称为装\n",
    "配。"
   ],
   "metadata": {
    "collapsed": false
   }
  },
  {
   "cell_type": "code",
   "execution_count": null,
   "outputs": [],
   "source": [
    "# 导入优化器，损失函数模块\n",
    "from tensorflow.keras import optimizers,losses\n",
    "# 模型装配"
   ],
   "metadata": {
    "collapsed": false
   }
  },
  {
   "cell_type": "code",
   "execution_count": null,
   "outputs": [],
   "source": [
    "# 采用 Adam 优化器，学习率为 0.01;采用交叉熵损失函数，包含 Softmax\n",
    "network.compile(optimizer=optimizers.Adam(lr=0.01), loss=losses.CategoricalCrossentropy(from_logits=True), metrics=['accuracy'] # 设置测量指标为准确率\n",
    ")"
   ],
   "metadata": {
    "collapsed": false
   }
  },
  {
   "cell_type": "markdown",
   "source": [
    "在 compile()函数中指定的优化器、损失函数等参数也是我们自行训练时需要设置的参数，"
   ],
   "metadata": {
    "collapsed": false
   }
  },
  {
   "cell_type": "markdown",
   "source": [
    "# 模型训练\n",
    "模型装配完成后，即可通过 fit()函数送入待训练的数据集和验证用的数据集，这一步\n",
    "称为模型训练。"
   ],
   "metadata": {
    "collapsed": false
   }
  },
  {
   "cell_type": "code",
   "execution_count": null,
   "outputs": [],
   "source": [
    "# 指定训练集为 train_db，验证集为 val_db,训练 5 个 epochs，每 2 个 epoch 验证一次\n",
    "# 返回训练轨迹信息保存在 history 对象中\n",
    "history = network.fit(train_db, epochs=5, validation_data=val_db, validation_freq=2)"
   ],
   "metadata": {
    "collapsed": false
   }
  },
  {
   "cell_type": "markdown",
   "source": [
    "其中 train_db 为 tf.data.Dataset 对象，也可以传入 Numpy Array 类型的数据；epochs 参数指\n",
    "定训练迭代的 Epoch 数量；validation_data 参数指定用于验证(测试)的数据集和验证的频率\n",
    "validation_freq。"
   ],
   "metadata": {
    "collapsed": false
   }
  },
  {
   "cell_type": "markdown",
   "source": [
    "运行上述代码即可实现网络的训练与验证的功能，fit 函数会返回训练过程的数据记录\n",
    "history，其中 history.history 为字典对象，包含了训练过程中的 loss、测量指标等记录项，\n",
    "我们可以直接查看这些训练数据."
   ],
   "metadata": {
    "collapsed": false
   }
  },
  {
   "cell_type": "code",
   "execution_count": null,
   "outputs": [],
   "source": [
    "history.history # 打印训练记录"
   ],
   "metadata": {
    "collapsed": false
   }
  },
  {
   "cell_type": "markdown",
   "source": [
    "fit()函数的运行代表了网络的训练过程，因此会消耗相当的训练时间，并在训练结束\n",
    "后才返回，训练中产生的历史数据可以通过返回值对象取得。可以看到通过 compile&fit 方\n",
    "式实现的代码非常简洁和高效，大大缩减了开发时间。但是因为接口非常高层，灵活性也\n",
    "降低了，是否使用需要用户自行判断。\n",
    "\n",
    "# 模型测试"
   ],
   "metadata": {
    "collapsed": false
   }
  },
  {
   "cell_type": "code",
   "execution_count": null,
   "outputs": [],
   "source": [
    "# 加载一个 batch 的测试数据\n",
    "x,y = next(iter(ds_val))\n",
    "print('predict x:', x.shape) # 打印当前 batch 的形状\n",
    "out = network.predict(x) # 模型预测，预测结果保存在 out 中\n",
    "print(out)\n",
    "network.evaluate(ds_val) # 模型测试，测试在 db_test 上的性能表现"
   ],
   "metadata": {
    "collapsed": false
   }
  },
  {
   "cell_type": "markdown",
   "source": [],
   "metadata": {
    "collapsed": false
   }
  }
 ],
 "metadata": {
  "kernelspec": {
   "display_name": "Python 3",
   "language": "python",
   "name": "python3"
  },
  "language_info": {
   "codemirror_mode": {
    "name": "ipython",
    "version": 2
   },
   "file_extension": ".py",
   "mimetype": "text/x-python",
   "name": "python",
   "nbconvert_exporter": "python",
   "pygments_lexer": "ipython2",
   "version": "2.7.6"
  }
 },
 "nbformat": 4,
 "nbformat_minor": 0
}
