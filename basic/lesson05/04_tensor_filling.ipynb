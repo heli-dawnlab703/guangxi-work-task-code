{
 "cells": [
  {
   "cell_type": "code",
   "execution_count": null,
   "metadata": {
    "collapsed": true
   },
   "outputs": [],
   "source": [
    "import tensorflow as tf"
   ]
  },
  {
   "cell_type": "code",
   "execution_count": null,
   "outputs": [],
   "source": [
    "a = tf.constant([1,2,3,4,5,6]) # 第一个句子"
   ],
   "metadata": {
    "collapsed": false
   }
  },
  {
   "cell_type": "code",
   "execution_count": null,
   "outputs": [],
   "source": [
    "b = tf.constant([7,8,1,6]) # 第二个句子\n",
    "b = tf.pad(b, [[0,2]]) # 句子末尾填充 2 个 0\n",
    "b # 填充后的结果"
   ],
   "metadata": {
    "collapsed": false
   }
  },
  {
   "cell_type": "code",
   "execution_count": null,
   "outputs": [],
   "source": [
    "tf.stack([a,b],axis=0) # 堆叠合并，创建句子数维度"
   ],
   "metadata": {
    "collapsed": false
   }
  },
  {
   "cell_type": "code",
   "execution_count": null,
   "outputs": [],
   "source": [
    "total_words = 10000 # 设定词汇量大小\n",
    "max_review_len = 80 # 最大句子长度\n",
    "embedding_len = 100 # 词向量长度"
   ],
   "metadata": {
    "collapsed": false
   }
  },
  {
   "cell_type": "code",
   "execution_count": null,
   "outputs": [],
   "source": [
    "\n",
    "# 加载 IMDB 数据集\n",
    "(x_train, y_train), (x_test, y_test) =  tf.keras.datasets.imdb.load_data(num_words=total_words)\n",
    "# 将句子填充或截断到相同长度，设置为末尾填充和末尾截断方式\n",
    "x_train = tf.keras.preprocessing.sequence.pad_sequences(x_train,  maxlen=max_review_len,truncating='post',padding='post')\n",
    "x_test = tf.keras.preprocessing.sequence.pad_sequences(x_test,  maxlen=max_review_len,truncating='post',padding='post')\n",
    "print(x_train.shape, x_test.shape) # 打印等长的句子张量形状"
   ],
   "metadata": {
    "collapsed": false
   }
  },
  {
   "cell_type": "code",
   "execution_count": null,
   "outputs": [],
   "source": [
    "x = tf.random.normal([4,28,28,1])\n",
    "# 图片上下、左右各填充 2 个单元\n",
    "tf.pad(x,[[0,0],[2,2],[2,2],[0,0]])"
   ],
   "metadata": {
    "collapsed": false
   }
  },
  {
   "cell_type": "code",
   "execution_count": null,
   "outputs": [],
   "source": [
    "x = tf.random.normal([4,32,32,3])\n",
    "tf.tile(x,[2,3,3,1]) # 数据复制"
   ],
   "metadata": {
    "collapsed": false
   }
  }
 ],
 "metadata": {
  "kernelspec": {
   "display_name": "Python 3",
   "language": "python",
   "name": "python3"
  },
  "language_info": {
   "codemirror_mode": {
    "name": "ipython",
    "version": 2
   },
   "file_extension": ".py",
   "mimetype": "text/x-python",
   "name": "python",
   "nbconvert_exporter": "python",
   "pygments_lexer": "ipython2",
   "version": "2.7.6"
  }
 },
 "nbformat": 4,
 "nbformat_minor": 0
}
