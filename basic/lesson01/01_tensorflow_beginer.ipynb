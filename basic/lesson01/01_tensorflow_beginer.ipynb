{
 "cells": [
  {
   "cell_type": "markdown",
   "source": [
    "# 初见TensorFlow2.0\n",
    "\n",
    "## tensorflow简介\n",
    "\n",
    "### 自动求导"
   ],
   "metadata": {
    "collapsed": false
   },
   "id": "72f94f53ef1b1ecc"
  },
  {
   "cell_type": "code",
   "execution_count": null,
   "id": "initial_id",
   "metadata": {
    "collapsed": true,
    "is_executing": true
   },
   "outputs": [],
   "source": [
    "import tensorflow as tf"
   ]
  },
  {
   "cell_type": "code",
   "execution_count": null,
   "outputs": [],
   "source": [
    "# 常量定义\n",
    "x = tf.constant(1.)\n",
    "a = tf.constant(2.)\n",
    "b = tf.constant(3.)\n",
    "c = tf.constant(4.)"
   ],
   "metadata": {
    "collapsed": false
   },
   "id": "e68d9e932e89c739"
  },
  {
   "cell_type": "markdown",
   "source": [
    "在 TensorFlow 中，tf.GradientTape 是一种上下文管理器，用于记录计算过程中涉及的所有操作，以便后续计算梯度。\n",
    "在训练神经网络时，通常使用梯度下降等优化算法来调整模型参数，而梯度的计算则是通过反向传播来实现的。\n",
    "\n",
    "tape.watch(x) 用于告诉 TensorFlow 跟踪对 x 的操作。\n",
    "然后，在 tape 上下文内执行前向计算，最后使用 tape.gradient 计算相对于 x 的梯度。"
   ],
   "metadata": {
    "collapsed": false
   },
   "id": "3846690b77001c9c"
  },
  {
   "cell_type": "code",
   "execution_count": null,
   "outputs": [],
   "source": [
    "with tf.GradientTape() as tape:\n",
    "\ttape.watch([a, b, c])\n",
    "\ty = a**2 * x + b * x + c\n",
    "\n",
    "\n",
    "[dy_da, dy_db, dy_dc] = tape.gradient(y, [a, b, c])\n"
   ],
   "metadata": {
    "collapsed": false
   },
   "id": "3ef85111d944f43e"
  },
  {
   "cell_type": "code",
   "execution_count": null,
   "outputs": [],
   "source": [
    "dy_da, dy_db, dy_dc"
   ],
   "metadata": {
    "collapsed": false
   },
   "id": "fff300b2e585dc36"
  },
  {
   "cell_type": "markdown",
   "source": [
    "### gpu加速"
   ],
   "metadata": {
    "collapsed": false
   },
   "id": "748f0c2f001b7e9f"
  },
  {
   "cell_type": "code",
   "execution_count": null,
   "outputs": [],
   "source": [
    "import tensorflow as tf\n",
    "import timeit\n"
   ],
   "metadata": {
    "collapsed": false
   },
   "id": "815b28011bc98fa5"
  },
  {
   "cell_type": "code",
   "execution_count": null,
   "outputs": [],
   "source": [
    "with tf.device('/cpu:0'):\n",
    "\tcpu_a = tf.random.normal([10000, 1000])\n",
    "\tcpu_b = tf.random.normal([1000, 2000])\n",
    "\tprint(cpu_a.device, cpu_b.device)\n"
   ],
   "metadata": {
    "collapsed": false
   },
   "id": "d1ca3a27051e2929"
  },
  {
   "cell_type": "code",
   "execution_count": null,
   "outputs": [],
   "source": [
    "with tf.device('/gpu:0'):\n",
    "\tgpu_a = tf.random.normal([10000, 1000])\n",
    "\tgpu_b = tf.random.normal([1000, 2000])\n",
    "\tprint(gpu_a.device, gpu_b.device)"
   ],
   "metadata": {
    "collapsed": false
   },
   "id": "21890f8b04e0817"
  },
  {
   "cell_type": "code",
   "execution_count": null,
   "outputs": [],
   "source": [
    "def cpu_run():\n",
    "\twith tf.device('/cpu:0'):\n",
    "\t\tc = tf.matmul(cpu_a, cpu_b)\n",
    "\treturn c "
   ],
   "metadata": {
    "collapsed": false
   },
   "id": "9c4d3bfea263db8"
  },
  {
   "cell_type": "code",
   "execution_count": null,
   "outputs": [],
   "source": [
    "def gpu_run():\n",
    "\twith tf.device('/gpu:0'):\n",
    "\t\tc = tf.matmul(gpu_a, gpu_b)\n",
    "\treturn c "
   ],
   "metadata": {
    "collapsed": false
   },
   "id": "2c8fb0af3b90e3ed"
  },
  {
   "cell_type": "code",
   "execution_count": null,
   "outputs": [],
   "source": [
    "# warm up\n",
    "cpu_time = timeit.timeit(cpu_run, number=10)\n",
    "gpu_time = timeit.timeit(gpu_run, number=10)\n",
    "print('warmup:', cpu_time, gpu_time)\n"
   ],
   "metadata": {
    "collapsed": false
   },
   "id": "62713f01ac688543"
  },
  {
   "cell_type": "code",
   "execution_count": null,
   "outputs": [],
   "source": [
    "cpu_time = timeit.timeit(cpu_run, number=10)\n",
    "gpu_time = timeit.timeit(gpu_run, number=10)\n",
    "print('run time:', cpu_time, gpu_time)"
   ],
   "metadata": {
    "collapsed": false
   },
   "id": "27869e942e4dd553"
  }
 ],
 "metadata": {
  "kernelspec": {
   "display_name": "Python 3",
   "language": "python",
   "name": "python3"
  },
  "language_info": {
   "codemirror_mode": {
    "name": "ipython",
    "version": 2
   },
   "file_extension": ".py",
   "mimetype": "text/x-python",
   "name": "python",
   "nbconvert_exporter": "python",
   "pygments_lexer": "ipython2",
   "version": "2.7.6"
  }
 },
 "nbformat": 4,
 "nbformat_minor": 5
}
