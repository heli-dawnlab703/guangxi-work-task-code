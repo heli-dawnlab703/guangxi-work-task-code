{
 "cells": [
  {
   "cell_type": "markdown",
   "source": [
    "# 标量\n",
    "\n",
    "在 TensorFlow 中，标量最容易理解，它就是一个简单的数字，维度数为 0，shape 为\n",
    "[]。标量的一些典型用途是误差值的表示、各种测量指标的表示，比如准确度(Accuracy，\n",
    "简称 acc)，精度(Precision)和召回率(Recall)等"
   ],
   "metadata": {
    "collapsed": false
   },
   "id": "f016b5b0ef9a8c8a"
  },
  {
   "cell_type": "code",
   "execution_count": null,
   "outputs": [],
   "source": [
    "import tensorflow as tf"
   ],
   "metadata": {
    "collapsed": false
   },
   "id": "f97593d9209e3deb"
  },
  {
   "cell_type": "code",
   "execution_count": null,
   "id": "initial_id",
   "metadata": {
    "collapsed": true
   },
   "outputs": [],
   "source": [
    "out = tf.random.uniform([4,10]) #随机模拟网络输出"
   ]
  },
  {
   "cell_type": "code",
   "execution_count": null,
   "outputs": [],
   "source": [
    "y = tf.constant([2,3,2,0]) # 随机构造样本真实标签"
   ],
   "metadata": {
    "collapsed": false
   },
   "id": "c4a4696202812003"
  },
  {
   "cell_type": "code",
   "execution_count": null,
   "outputs": [],
   "source": [
    "y = tf.one_hot(y, depth=10) # one-hot 编码"
   ],
   "metadata": {
    "collapsed": false
   },
   "id": "184f5e5dca15a64"
  },
  {
   "cell_type": "code",
   "execution_count": null,
   "outputs": [],
   "source": [
    "loss = tf.keras.losses.mse(y, out) # 计算每个样本的 MSE\n",
    "loss = tf.reduce_mean(loss) # 平均 MSE,loss 应是标量\n",
    "print(loss)"
   ],
   "metadata": {
    "collapsed": false
   },
   "id": "7b08125242c987a3"
  },
  {
   "cell_type": "markdown",
   "source": [
    "# 向量"
   ],
   "metadata": {
    "collapsed": false
   },
   "id": "118514b7429f2393"
  },
  {
   "cell_type": "code",
   "execution_count": null,
   "outputs": [],
   "source": [
    "# z=wx,模拟获得激活函数的输入 z\n",
    "z = tf.random.normal([4,2])\n",
    "b = tf.zeros([2]) # 创建偏置向量\n",
    "z = z + b # 累加上偏置向量"
   ],
   "metadata": {
    "collapsed": false
   },
   "id": "c2234160f26e11f9"
  },
  {
   "cell_type": "markdown",
   "source": [
    "注意到这里 shape 为[4,2]的𝒛和 shape 为[2]的𝒃张量可以直接相加，这是为什么呢？  在 Broadcasting 讲解"
   ],
   "metadata": {
    "collapsed": false
   },
   "id": "163e6165f5c53a8e"
  },
  {
   "cell_type": "markdown",
   "source": [
    "通过高层接口类 Dense()方式创建的网络层，张量𝑾和𝒃存储在类的内部，由类自动创建并管理。可以通过全连接层的 bias 成员变量查看偏置变量𝒃，例如创建输入节点数为 4，\n",
    "输出节点数为 3 的线性层网络，那么它的偏置向量 b 的长度应为 3，实现如下："
   ],
   "metadata": {
    "collapsed": false
   },
   "id": "f3a77e4d81531ddd"
  },
  {
   "cell_type": "code",
   "execution_count": null,
   "outputs": [],
   "source": [
    "from keras import layers\n",
    "\n",
    "fc = layers.Dense(3) # 创建一层 Wx+b，输出节点为 3\n",
    "# 通过 build 函数创建 W,b 张量，输入节点为 4\n",
    "fc.build(input_shape=(2,4))\n",
    "fc.bias # 查看偏置向量"
   ],
   "metadata": {
    "collapsed": false
   },
   "id": "cb0333be7d446d82"
  },
  {
   "cell_type": "markdown",
   "source": [
    "# 矩阵\n",
    "矩阵也是非常常见的张量类型，比如全连接层的批量输入张量𝑿的形状为[𝑏, 𝑑in]，其\n",
    "中𝑏表示输入样本的个数，即 Batch Size，𝑑in表示输入特征的长度。例如特征长度为 4，一\n",
    "共包含 2 个样本的输入可以表示为矩阵"
   ],
   "metadata": {
    "collapsed": false
   },
   "id": "9bd5fc82ca40b821"
  },
  {
   "cell_type": "code",
   "execution_count": null,
   "outputs": [],
   "source": [
    "x = tf.random.normal([2,4]) # 2 个样本，特征长度为 4 的张量"
   ],
   "metadata": {
    "collapsed": false
   },
   "id": "5f5df826322574b6"
  },
  {
   "cell_type": "markdown",
   "source": [
    "令全连接层的输出节点数为 3，则它的权值张量𝑾的 shape 为[4,3]，我们利用张量𝑿、𝑾和\n",
    "向量𝒃可以直接实现一个网络层，代码如下"
   ],
   "metadata": {
    "collapsed": false
   },
   "id": "66444cda69cf1f0d"
  },
  {
   "cell_type": "code",
   "execution_count": null,
   "outputs": [],
   "source": [
    "w = tf.ones([4,3]) # 定义 W 张量\n",
    "b = tf.zeros([3]) # 定义 b 张量\n",
    "o = x@w+b # X@W+b 运算"
   ],
   "metadata": {
    "collapsed": false
   },
   "id": "8cb317fe217334b3"
  },
  {
   "cell_type": "markdown",
   "source": [
    "其中𝑿和𝑾张量均是矩阵，上述代码实现了一个线性变换的网络层，激活函数为空。一般\n",
    "地，𝜎(𝑿@𝑾 + 𝒃)网络层称为全连接层，在 TensorFlow 中可以通过 Dense 类直接实现，特\n",
    "别地，当激活函数𝜎为空时，全连接层也称为线性层。我们通过 Dense 类创建输入 4 个节\n",
    "点，输出 3 个节点的网络层，并通过全连接层的 kernel 成员名查看其权值矩阵𝑾："
   ],
   "metadata": {
    "collapsed": false
   },
   "id": "2080843a8f8eff85"
  },
  {
   "cell_type": "code",
   "execution_count": null,
   "outputs": [],
   "source": [
    "fc = layers.Dense(3) # 定义全连接层的输出节点为 3\n",
    "fc.build(input_shape=(2,4)) # 定义全连接层的输入节点为 4\n",
    "fc.kernel # 查看权值矩阵 W"
   ],
   "metadata": {
    "collapsed": false
   },
   "id": "de4b2e060c3c31b6"
  },
  {
   "cell_type": "markdown",
   "source": [
    "# 三维张量\n",
    " 三维的张量一个典型应用是表示序列信号，它的格式是\n",
    "𝑿 = [𝑏, sequence len, feature len]\n",
    "其中𝑏表示序列信号的数量，sequence len 表示序列信号在时间维度上的采样点数或步数，\n",
    "feature len 表示每个点的特征长度。"
   ],
   "metadata": {
    "collapsed": false
   },
   "id": "6f26a4c01b3ef07e"
  },
  {
   "cell_type": "code",
   "execution_count": null,
   "outputs": [],
   "source": [
    "import keras\n",
    "\n",
    "# 自动加载 IMDB 电影评价数据集\n",
    "(x_train,y_train),(x_test,y_test)=keras.datasets.imdb.load_data(num_words=10000)"
   ],
   "metadata": {
    "collapsed": false
   },
   "id": "ac02bb6f862c5e5b"
  },
  {
   "cell_type": "code",
   "execution_count": null,
   "outputs": [],
   "source": [
    "# 将句子填充、截断为等长 80 个单词的句子\n",
    "x_train = keras.preprocessing.sequence.pad_sequences(x_train,maxlen=80)"
   ],
   "metadata": {
    "collapsed": false
   },
   "id": "951cc2d005619e13"
  },
  {
   "cell_type": "code",
   "execution_count": null,
   "outputs": [],
   "source": [
    "x_train.shape"
   ],
   "metadata": {
    "collapsed": false
   },
   "id": "c49f4de770c77635"
  },
  {
   "cell_type": "code",
   "execution_count": null,
   "outputs": [],
   "source": [
    "# 创建词向量 Embedding 层类\n",
    "embedding=layers.Embedding(10000, 100)\n",
    "# 将数字编码的单词转换为词向量\n",
    "out = embedding(x_train)\n",
    "out.shape"
   ],
   "metadata": {
    "collapsed": false
   },
   "id": "acec67516312dbc1"
  },
  {
   "cell_type": "markdown",
   "source": [
    "经过 Embedding 层编码后，句子张量的 shape 变为[25000,80,100]，其中 100 表\n",
    "示每个单词编码为长度是 100 的向量"
   ],
   "metadata": {
    "collapsed": false
   },
   "id": "fec19653c8289c11"
  },
  {
   "cell_type": "markdown",
   "source": [
    "# 四维张量"
   ],
   "metadata": {
    "collapsed": false
   },
   "id": "608deca09d0c37e7"
  },
  {
   "cell_type": "code",
   "execution_count": null,
   "outputs": [],
   "source": [
    "# 创建 32x32 的彩色图片输入，个数为 4\n",
    "x = tf.random.normal([4,32,32,3])\n",
    "# 创建卷积神经网络\n",
    "layer = layers.Conv2D(16,kernel_size=3)\n",
    "out = layer(x) # 前向计算\n",
    "out.shape # 输出大小"
   ],
   "metadata": {
    "collapsed": false
   },
   "id": "d42d5fb7a9d7f529"
  },
  {
   "cell_type": "code",
   "execution_count": null,
   "outputs": [],
   "source": [
    "layer.kernel.shape # 访问卷积核张量"
   ],
   "metadata": {
    "collapsed": false
   },
   "id": "8f65a6b250ff6cdc"
  }
 ],
 "metadata": {
  "kernelspec": {
   "display_name": "Python 3",
   "language": "python",
   "name": "python3"
  },
  "language_info": {
   "codemirror_mode": {
    "name": "ipython",
    "version": 2
   },
   "file_extension": ".py",
   "mimetype": "text/x-python",
   "name": "python",
   "nbconvert_exporter": "python",
   "pygments_lexer": "ipython2",
   "version": "2.7.6"
  }
 },
 "nbformat": 4,
 "nbformat_minor": 5
}
