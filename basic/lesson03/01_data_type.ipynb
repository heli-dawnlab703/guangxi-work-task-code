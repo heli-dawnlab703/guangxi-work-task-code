{
 "cells": [
  {
   "cell_type": "code",
   "execution_count": null,
   "id": "initial_id",
   "metadata": {
    "collapsed": true
   },
   "outputs": [],
   "source": [
    "import tensorflow as tf"
   ]
  },
  {
   "cell_type": "code",
   "execution_count": null,
   "outputs": [],
   "source": [
    "\n",
    "a = 1.2 # python 语言方式创建标量\n",
    "aa = tf.constant(1.2) # TF 方式创建标量\n",
    "type(a), type(aa), tf.is_tensor(aa)"
   ],
   "metadata": {
    "collapsed": false
   },
   "id": "37ba51426d7aa1f1"
  },
  {
   "cell_type": "code",
   "execution_count": null,
   "outputs": [],
   "source": [
    "x = tf.constant([1,2.,3.3])\n",
    "x # 打印 TF 张量的相关信息"
   ],
   "metadata": {
    "collapsed": false
   },
   "id": "7cf2b013fb987d4d"
  },
  {
   "cell_type": "code",
   "execution_count": null,
   "outputs": [],
   "source": [
    "x.numpy() # 将 TF 张量的数据导出为 numpy 数组格式\n"
   ],
   "metadata": {
    "collapsed": false
   },
   "id": "7584073bd0fc16a"
  },
  {
   "cell_type": "code",
   "execution_count": null,
   "outputs": [],
   "source": [
    "a = tf.constant([1.2]) # 创建一个元素的向量\n",
    "a, a.shape"
   ],
   "metadata": {
    "collapsed": false
   },
   "id": "b17504f8db1aa252"
  },
  {
   "cell_type": "code",
   "execution_count": null,
   "outputs": [],
   "source": [
    "a = tf.constant([1,2, 3.]) # 创建 3 个元素的向量\n",
    "a, a.shape"
   ],
   "metadata": {
    "collapsed": false
   },
   "id": "b5bd93cfe3852c1a"
  },
  {
   "cell_type": "code",
   "execution_count": null,
   "outputs": [],
   "source": [
    "a = tf.constant([[1,2],[3,4]]) # 创建 2 行 2 列的矩阵\n",
    "a, a.shape"
   ],
   "metadata": {
    "collapsed": false
   },
   "id": "ca85bb296da1dcc3"
  },
  {
   "cell_type": "code",
   "execution_count": null,
   "outputs": [],
   "source": [
    "a = tf.constant([[[1,2],[3,4]],[[5,6],[7,8]]]) # 创建 3 维张量\n",
    "a"
   ],
   "metadata": {
    "collapsed": false
   },
   "id": "460b4f2f8297716d"
  },
  {
   "cell_type": "code",
   "execution_count": null,
   "outputs": [],
   "source": [
    "a = tf.constant('Hello, Deep Learning.') # 创建字符串\n",
    "a"
   ],
   "metadata": {
    "collapsed": false
   },
   "id": "432dc628e2edb267"
  },
  {
   "cell_type": "code",
   "execution_count": null,
   "outputs": [],
   "source": [
    "tf.strings.lower(a) # 小写化字符串"
   ],
   "metadata": {
    "collapsed": false
   },
   "id": "2c30fbae774eb165"
  },
  {
   "cell_type": "code",
   "execution_count": null,
   "outputs": [],
   "source": [
    "a = tf.constant(True) # 创建布尔类型标量\n",
    "a"
   ],
   "metadata": {
    "collapsed": false
   },
   "id": "a15d9530c1818fb1"
  },
  {
   "cell_type": "code",
   "execution_count": null,
   "outputs": [],
   "source": [
    "a = tf.constant([True, False]) # 创建布尔类型向量\n",
    "a"
   ],
   "metadata": {
    "collapsed": false
   },
   "id": "404f9d0e04299ea6"
  },
  {
   "cell_type": "code",
   "execution_count": null,
   "outputs": [],
   "source": [
    "a = tf.constant(True) # 创建 TF 布尔张量\n",
    "a is True # TF 布尔类型张量与 python 布尔类型比较\n",
    "a == True # 仅数值比较"
   ],
   "metadata": {
    "collapsed": false
   },
   "id": "c44a15e84d211b1b"
  }
 ],
 "metadata": {
  "kernelspec": {
   "display_name": "Python 3",
   "language": "python",
   "name": "python3"
  },
  "language_info": {
   "codemirror_mode": {
    "name": "ipython",
    "version": 2
   },
   "file_extension": ".py",
   "mimetype": "text/x-python",
   "name": "python",
   "nbconvert_exporter": "python",
   "pygments_lexer": "ipython2",
   "version": "2.7.6"
  }
 },
 "nbformat": 4,
 "nbformat_minor": 5
}
