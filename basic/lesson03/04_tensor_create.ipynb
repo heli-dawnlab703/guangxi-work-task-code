{
 "cells": [
  {
   "cell_type": "code",
   "execution_count": null,
   "outputs": [],
   "source": [
    "import tensorflow as tf\n",
    "import numpy as np"
   ],
   "metadata": {
    "collapsed": false
   },
   "id": "66f8b4390605666b"
  },
  {
   "cell_type": "markdown",
   "source": [
    "# 从数组, 列表对象创建"
   ],
   "metadata": {
    "collapsed": false
   },
   "id": "a90aadead8e4634e"
  },
  {
   "cell_type": "code",
   "execution_count": null,
   "id": "initial_id",
   "metadata": {
    "collapsed": true
   },
   "outputs": [],
   "source": [
    "tf.convert_to_tensor([1,2.]) # 从列表创建张量"
   ]
  },
  {
   "cell_type": "code",
   "execution_count": null,
   "outputs": [],
   "source": [
    "tf.convert_to_tensor(np.array([[1,2.],[3,4]])) # 从数组中创建张量"
   ],
   "metadata": {
    "collapsed": false
   },
   "id": "5323fa5694323ab5"
  },
  {
   "cell_type": "markdown",
   "source": [
    "实际上，tf.constant()和 tf.convert_to_tensor()都能够自动的把 Numpy 数组或者 Python \n",
    "列表数据类型转化为 Tensor 类型，\n",
    "\n",
    "# 创建全0 或全1张量"
   ],
   "metadata": {
    "collapsed": false
   },
   "id": "c49afc1474e09d54"
  },
  {
   "cell_type": "code",
   "execution_count": null,
   "outputs": [],
   "source": [
    "tf.zeros([]),tf.ones([]) # 创建全 0，全 1 的标量"
   ],
   "metadata": {
    "collapsed": false
   },
   "id": "473decebc07e48a"
  },
  {
   "cell_type": "code",
   "execution_count": null,
   "outputs": [],
   "source": [
    "tf.zeros([1]),tf.ones([1]) # 创建全 0，全 1 的向量"
   ],
   "metadata": {
    "collapsed": false
   },
   "id": "f1b4972d3ac5f363"
  },
  {
   "cell_type": "code",
   "execution_count": null,
   "outputs": [],
   "source": [
    "tf.zeros([2,2]) # 创建全 0 矩阵，指定 shape 为 2 行 2 列"
   ],
   "metadata": {
    "collapsed": false
   },
   "id": "cded3e2228300ef9"
  },
  {
   "cell_type": "code",
   "execution_count": null,
   "outputs": [],
   "source": [
    "tf.ones([3,2])"
   ],
   "metadata": {
    "collapsed": false
   },
   "id": "2ccf8c411dc90453"
  },
  {
   "cell_type": "markdown",
   "source": [
    "通过 tf.zeros_like, tf.ones_like 可以方便地新建与某个张量 shape 一致，且内容为全 0 或\n",
    "全 1 的张量。例如，创建与张量𝑨形状一样的全 0 张量："
   ],
   "metadata": {
    "collapsed": false
   },
   "id": "a82a94a80dcc08c2"
  },
  {
   "cell_type": "code",
   "execution_count": null,
   "outputs": [],
   "source": [
    "a = tf.ones([2,3]) # 创建一个矩阵"
   ],
   "metadata": {
    "collapsed": false
   },
   "id": "825fdd7dec7da1bd"
  },
  {
   "cell_type": "code",
   "execution_count": null,
   "outputs": [],
   "source": [
    "tf.zeros_like(a) # 创建一个与 a 形状相同，但是全 0 的新矩阵"
   ],
   "metadata": {
    "collapsed": false
   },
   "id": "c790c02a9b4f9538"
  },
  {
   "cell_type": "code",
   "execution_count": null,
   "outputs": [],
   "source": [
    "a = tf.zeros([3,2]) # 创建一个矩阵"
   ],
   "metadata": {
    "collapsed": false
   },
   "id": "6e854e44bc612afe"
  },
  {
   "cell_type": "code",
   "execution_count": null,
   "outputs": [],
   "source": [
    "tf.ones_like(a) # 创建一个与 a 形状相同，但是全 1 的新矩阵"
   ],
   "metadata": {
    "collapsed": false
   },
   "id": "eaf14b2635fabef5"
  },
  {
   "cell_type": "markdown",
   "source": [
    "tf.*_like 是一系列的便捷函数，可以通过 tf.zeros(a.shape)等方式实现。"
   ],
   "metadata": {
    "collapsed": false
   },
   "id": "16b27ca5188013e1"
  },
  {
   "cell_type": "markdown",
   "source": [
    "# 创建自定义数值张量\n",
    "\n",
    "\n",
    "除了初始化为全 0，或全 1 的张量之外，有时也需要全部初始化为某个自定义数值的\n",
    "张量，比如将张量的数值全部初始化为−1等。\n",
    "通过 tf.fill(shape, value)可以创建全为自定义数值 value 的张量，形状由 shape 参数指\n",
    "定。例如，创建元素为−1的标量："
   ],
   "metadata": {
    "collapsed": false
   },
   "id": "2e791564b461512"
  },
  {
   "cell_type": "code",
   "execution_count": null,
   "outputs": [],
   "source": [
    "tf.fill([], -1) # 创建-1 的标量"
   ],
   "metadata": {
    "collapsed": false
   },
   "id": "ead2436b571ca76d"
  },
  {
   "cell_type": "code",
   "execution_count": null,
   "outputs": [],
   "source": [
    "tf.fill([1], -1) # 创建-1 的向量"
   ],
   "metadata": {
    "collapsed": false
   },
   "id": "f16ca39e637eeace"
  },
  {
   "cell_type": "code",
   "execution_count": null,
   "outputs": [],
   "source": [
    "tf.fill([2,2], 99) # 创建 2 行 2 列，元素全为 99 的矩阵"
   ],
   "metadata": {
    "collapsed": false
   },
   "id": "5382c0ab9849ff70"
  },
  {
   "cell_type": "markdown",
   "source": [
    "# 创建已知分布的张量\n",
    "\n",
    "正态分布(Normal Distribution，或 Gaussian Distribution)和均匀分布(Uniform \n",
    "Distribution)是最常见的分布之一，创建采样自这 2 种分布的张量非常有用，比如在卷积神\n",
    "经网络中，卷积核张量𝑾初始化为正态分布有利于网络的训练；在对抗生成网络中，隐藏\n",
    "变量𝒛一般采样自均匀分布。\n",
    "通过 tf.random.normal(shape, mean=0.0, stddev=1.0)可以创建形状为 shape，均值为\n",
    "mean，标准差为 stddev 的正态分布𝒩(mean, stddev2\n",
    ")。例如，创建均值为 0，标准差为 1\n",
    "的正态分布："
   ],
   "metadata": {
    "collapsed": false
   },
   "id": "86ef1b6526a7171d"
  },
  {
   "cell_type": "code",
   "execution_count": null,
   "outputs": [],
   "source": [
    "tf.random.normal([2,2]) # 创建标准正态分布的张量"
   ],
   "metadata": {
    "collapsed": false
   },
   "id": "af60b045aecbc29a"
  },
  {
   "cell_type": "code",
   "execution_count": null,
   "outputs": [],
   "source": [
    "tf.random.normal([2,2], mean=1,stddev=2) # 创建正态分布的张量"
   ],
   "metadata": {
    "collapsed": false
   },
   "id": "67fae9ee2ea6275c"
  },
  {
   "cell_type": "markdown",
   "source": [
    "通过 tf.random.uniform(shape, minval=0, maxval=None, dtype=tf.float32)可以创建采样自\n",
    "[minval, maxval)区间的均匀分布的张量。例如创建采样自区间[0,1)，shape 为[2,2]的矩\n",
    "阵："
   ],
   "metadata": {
    "collapsed": false
   },
   "id": "be36ae1325229e8"
  },
  {
   "cell_type": "code",
   "execution_count": null,
   "outputs": [],
   "source": [
    "tf.random.uniform([2,2]) # 创建采样自[0,1)均匀分布的矩阵"
   ],
   "metadata": {
    "collapsed": false
   },
   "id": "c89644e72ce58bca"
  },
  {
   "cell_type": "markdown",
   "source": [
    "例如，创建采样自区间[0,10)，shape 为[2,2]的矩阵："
   ],
   "metadata": {
    "collapsed": false
   },
   "id": "dc15d965a22e3cd9"
  },
  {
   "cell_type": "code",
   "execution_count": null,
   "outputs": [],
   "source": [
    "tf.random.uniform([2,2],maxval=10) # 创建采样自[0,10)均匀分布的矩阵"
   ],
   "metadata": {
    "collapsed": false
   },
   "id": "8fbbf2317b95270e"
  },
  {
   "cell_type": "markdown",
   "source": [
    "# 创建序列"
   ],
   "metadata": {
    "collapsed": false
   },
   "id": "c5212b1eccf0c28"
  },
  {
   "cell_type": "code",
   "execution_count": null,
   "outputs": [],
   "source": [
    "tf.range(10) # 0~10，不包含 10"
   ],
   "metadata": {
    "collapsed": false
   },
   "id": "890c79196e02a241"
  },
  {
   "cell_type": "code",
   "execution_count": null,
   "outputs": [],
   "source": [
    "tf.range(10,delta=2)  # 创建 0~10，步长为 2 的整形序列："
   ],
   "metadata": {
    "collapsed": false
   },
   "id": "bd8cf7da63567ac"
  },
  {
   "cell_type": "markdown",
   "source": [
    "通过 tf.range(start, limit, delta=1)可以创建[start,limit)，步长为 delta 的序列，不包含\n",
    "limit 本身："
   ],
   "metadata": {
    "collapsed": false
   },
   "id": "998da979a6a384c8"
  },
  {
   "cell_type": "code",
   "execution_count": null,
   "outputs": [],
   "source": [
    "tf.range(1,10,delta=2) # 1~10"
   ],
   "metadata": {
    "collapsed": false
   },
   "id": "7a0f5c4eead87105"
  }
 ],
 "metadata": {
  "kernelspec": {
   "display_name": "Python 3",
   "language": "python",
   "name": "python3"
  },
  "language_info": {
   "codemirror_mode": {
    "name": "ipython",
    "version": 2
   },
   "file_extension": ".py",
   "mimetype": "text/x-python",
   "name": "python",
   "nbconvert_exporter": "python",
   "pygments_lexer": "ipython2",
   "version": "2.7.6"
  }
 },
 "nbformat": 4,
 "nbformat_minor": 5
}
