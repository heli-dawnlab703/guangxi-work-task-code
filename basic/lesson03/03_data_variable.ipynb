{
 "cells": [
  {
   "cell_type": "code",
   "execution_count": null,
   "outputs": [],
   "source": [
    "import tensorflow as tf"
   ],
   "metadata": {
    "collapsed": false
   },
   "id": "f9f4c7357891ac36"
  },
  {
   "cell_type": "code",
   "execution_count": null,
   "id": "initial_id",
   "metadata": {
    "collapsed": true
   },
   "outputs": [],
   "source": [
    "a = tf.constant([-1, 0, 1, 2]) # 创建 TF 张量"
   ]
  },
  {
   "cell_type": "code",
   "execution_count": null,
   "outputs": [],
   "source": [
    "aa = tf.Variable(a) # 转换为 Variable 类型"
   ],
   "metadata": {
    "collapsed": false
   },
   "id": "91cd3fcb847e0e9c"
  },
  {
   "cell_type": "code",
   "execution_count": null,
   "outputs": [],
   "source": [
    "aa.name, aa.trainable # Variable 类型张量的属性"
   ],
   "metadata": {
    "collapsed": false
   },
   "id": "20b209fe54d53f4d"
  },
  {
   "cell_type": "code",
   "execution_count": null,
   "outputs": [],
   "source": [
    "a = tf.Variable([[1,2],[3,4]]) # 直接创建 Variable 张量"
   ],
   "metadata": {
    "collapsed": false
   },
   "id": "191f07834f15694e"
  },
  {
   "cell_type": "markdown",
   "source": [
    "待优化张量可视为普通张量的特殊类型，普通张量其实也可以通过 GradientTape.watch()方\n",
    "法临时加入跟踪梯度信息的列表，从而支持自动求导功能。"
   ],
   "metadata": {
    "collapsed": false
   },
   "id": "5299674066af671"
  },
  {
   "cell_type": "code",
   "execution_count": null,
   "outputs": [],
   "source": [],
   "metadata": {
    "collapsed": false
   },
   "id": "573a24cf1599dd3e"
  }
 ],
 "metadata": {
  "kernelspec": {
   "display_name": "Python 3",
   "language": "python",
   "name": "python3"
  },
  "language_info": {
   "codemirror_mode": {
    "name": "ipython",
    "version": 2
   },
   "file_extension": ".py",
   "mimetype": "text/x-python",
   "name": "python",
   "nbconvert_exporter": "python",
   "pygments_lexer": "ipython2",
   "version": "2.7.6"
  }
 },
 "nbformat": 4,
 "nbformat_minor": 5
}
