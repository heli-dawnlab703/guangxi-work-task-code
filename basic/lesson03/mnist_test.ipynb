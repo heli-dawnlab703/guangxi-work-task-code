{
 "cells": [
  {
   "cell_type": "code",
   "execution_count": null,
   "metadata": {
    "collapsed": true
   },
   "outputs": [],
   "source": [
    "import os\n",
    "import tensorflow as tf # 导入 TF 库\n",
    "from tensorflow import keras # 导入 TF 子库 keras\n",
    "from tensorflow.keras import layers, optimizers, datasets # 导入 TF 子库等\n",
    "(x, y), (x_val, y_val) = datasets.mnist.load_data() # 加载 MNIST 数据集\n",
    "x = 2 * tf.convert_to_tensor(x, dtype=tf.float32)/255.-1 # 转换为浮点张量，并缩放到-1~1\n",
    "y = tf.convert_to_tensor(y, dtype=tf.int32) # 转换为整形张量\n",
    "y = tf.one_hot(y, depth=10) # one-hot 编码\n",
    "print(x.shape, y.shape)\n",
    "train_dataset = tf.data.Dataset.from_tensor_slices((x, y)) # 构建数据集对象\n",
    "train_dataset = train_dataset.batch(512) # 批量训练"
   ]
  },
  {
   "cell_type": "markdown",
   "source": [
    "load_data()函数返回两个元组(tuple)对象，第一个是训练集，第二个是测试集，每个 tuple\n",
    "的第一个元素是多个训练图片数据𝑿，第二个元素是训练图片对应的类别数字𝒀。其中训练\n",
    "集𝑿的大小为(60000,28,28)，代表了 60000 个样本，每个样本由 28 行、28 列构成，由于\n",
    "是灰度图片，故没有 RGB 通道；训练集𝒀的大小为(60000)，代表了这 60000 个样本的标\n",
    "签数字，每个样本标签用一个范围为 0~9 的数字表示。测试集 X 的大小为(10000,28,28)，\n",
    "代表了 10000 张测试图片，Y 的大小为(10000)。\n",
    "从 TensorFlow 中加载的 MNIST 数据图片，数值的范围为[0,255]。在机器学习中间，\n",
    "一般希望数据的范围在 0 周围的小范围内分布。通过预处理步骤，我们把[0,255]像素范围\n",
    "归一化(Normalize)到[0,1.]区间，再缩放到[−1,1]区间，从而有利于模型的训练。\n",
    "每一张图片的计算流程是通用的，我们在计算的过程中可以一次进行多张图片的计\n",
    "算，充分利用 CPU 或 GPU 的并行计算能力。我们用形状为[ℎ, 𝑤]的矩阵来表示一张图片，\n",
    "对于多张图片来说，我们在前面添加一个数量维度(Dimension)，使用形状为[𝑏, ℎ, 𝑤]的张量\n",
    "来表示，其中𝑏代表了批量(Batch Size)；多张彩色图片可以使用形状为[𝑏, ℎ, 𝑤, 𝑐]的张量来\n",
    "表示，其中𝑐表示通道数量(Channel)，彩色图片𝑐 = 3。通过 TensorFlow 的 Dataset 对象可\n",
    "以方便完成模型的批量训练，只需要调用 batch()函数即可构建带 batch 功能的数据集对\n",
    "象。"
   ],
   "metadata": {
    "collapsed": false
   }
  },
  {
   "cell_type": "code",
   "execution_count": null,
   "outputs": [],
   "source": [
    "y = tf.constant([0,1,2,3]) # 数字编码的 4 个样本标签\n",
    "y = tf.one_hot(y, depth=10) # one-hot 编码，指定类别总数为 10\n",
    "print(y)"
   ],
   "metadata": {
    "collapsed": false
   }
  },
  {
   "cell_type": "code",
   "execution_count": null,
   "outputs": [],
   "source": [],
   "metadata": {
    "collapsed": false
   }
  },
  {
   "cell_type": "code",
   "execution_count": null,
   "outputs": [],
   "source": [],
   "metadata": {
    "collapsed": false
   }
  }
 ],
 "metadata": {
  "kernelspec": {
   "display_name": "Python 3",
   "language": "python",
   "name": "python3"
  },
  "language_info": {
   "codemirror_mode": {
    "name": "ipython",
    "version": 2
   },
   "file_extension": ".py",
   "mimetype": "text/x-python",
   "name": "python",
   "nbconvert_exporter": "python",
   "pygments_lexer": "ipython2",
   "version": "2.7.6"
  }
 },
 "nbformat": 4,
 "nbformat_minor": 0
}
