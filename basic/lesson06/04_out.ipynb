{
 "cells": [
  {
   "cell_type": "code",
   "execution_count": null,
   "metadata": {
    "collapsed": true
   },
   "outputs": [],
   "source": [
    "z = tf.constant([2.,1.,0.1])\n",
    "tf.nn.softmax(z) # 通过 Softmax 函数"
   ]
  },
  {
   "cell_type": "markdown",
   "source": [
    "与 Dense 层类似，Softmax 函数也可以作为网络层类使用，通过类 layers.Softmax(axis=-1)\n",
    "可以方便添加 Softmax 层，其中 axis 参数指定需要进行计算的维度。"
   ],
   "metadata": {
    "collapsed": false
   }
  },
  {
   "cell_type": "markdown",
   "source": [
    "在 Softmax 函数的数值计算过程中，容易因输入值偏大发生数值溢出现象；在计算交\n",
    "叉熵时，也会出现数值溢出的问题。为了数值计算的稳定性，TensorFlow 中提供了一个统\n",
    "一的接口，将 Softmax 与交叉熵损失函数同时实现，同时也处理了数值不稳定的异常，一\n",
    "般推荐使用这些接口函数，避免分开使用 Softmax 函数与交叉熵损失函数。函数式接口为\n",
    "tf.keras.losses.categorical_crossentropy(y_true, y_pred, from_logits=False)，其中 y_true 代表了\n",
    "One-hot 编码后的真实标签，y_pred 表示网络的预测值，当 from_logits 设置为 True 时，\n",
    "y_pred 表示须为未经过 Softmax 函数的变量 z；当 from_logits 设置为 False 时，y_pred 表示\n",
    "为经过 Softmax 函数的输出。为了数值计算稳定性，一般设置 from_logits 为 True，此时\n",
    "tf.keras.losses.categorical_crossentropy 将在内部进行 Softmax 函数计算，所以不需要在模型\n",
    "中显式调用 Softmax 函数，"
   ],
   "metadata": {
    "collapsed": false
   }
  },
  {
   "cell_type": "code",
   "execution_count": null,
   "outputs": [],
   "source": [
    "import tensorflow as tf\n",
    "\n",
    "z = tf.random.normal([2,10]) # 构造输出层的输出\n",
    "y_onehot = tf.constant([1,3]) # 构造真实值\n",
    "y_onehot = tf.one_hot(y_onehot, depth=10) # one-hot 编码"
   ],
   "metadata": {
    "collapsed": false
   }
  },
  {
   "cell_type": "code",
   "execution_count": null,
   "outputs": [],
   "source": [
    "from tensorflow import keras\n",
    "\n",
    "# 输出层未使用 Softmax 函数，故 from_logits 设置为 True\n",
    "# 这样 categorical_crossentropy 函数在计算损失函数前，会先内部调用 Softmax 函数\n",
    "loss = keras.losses.categorical_crossentropy(y_onehot,z,from_logits=True)\n",
    "loss = tf.reduce_mean(loss) # 计算平均交叉熵损失\n",
    "loss"
   ],
   "metadata": {
    "collapsed": false
   }
  },
  {
   "cell_type": "code",
   "execution_count": null,
   "outputs": [],
   "source": [
    "# 创建 Softmax 与交叉熵计算类，输出层的输出 z 未使用 softmax\n",
    "criteon = keras.losses.CategoricalCrossentropy(from_logits=True)\n",
    "loss = criteon(y_onehot,z) # 计算损失\n",
    "loss"
   ],
   "metadata": {
    "collapsed": false
   }
  }
 ],
 "metadata": {
  "kernelspec": {
   "display_name": "Python 3",
   "language": "python",
   "name": "python3"
  },
  "language_info": {
   "codemirror_mode": {
    "name": "ipython",
    "version": 2
   },
   "file_extension": ".py",
   "mimetype": "text/x-python",
   "name": "python",
   "nbconvert_exporter": "python",
   "pygments_lexer": "ipython2",
   "version": "2.7.6"
  }
 },
 "nbformat": 4,
 "nbformat_minor": 0
}
